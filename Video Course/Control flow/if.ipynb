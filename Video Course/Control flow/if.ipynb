{
 "cells": [
  {
   "cell_type": "markdown",
   "id": "c7a40f70-df58-4aa9-9a3c-ebdc8ec4541e",
   "metadata": {},
   "source": [
    "# Условные операторы, циклы #"
   ]
  },
  {
   "cell_type": "code",
   "execution_count": 14,
   "id": "02cc68aa-e00d-49e1-9e26-b749386bee72",
   "metadata": {},
   "outputs": [
    {
     "name": "stdout",
     "output_type": "stream",
     "text": [
      "43\n",
      "The last third of minute\n"
     ]
    }
   ],
   "source": [
    "from datetime import datetime\n",
    "\n",
    "seconds = datetime.today().second\n",
    "print(seconds)\n",
    "if seconds < 20:\n",
    "    print(\"The first third of minute\")\n",
    "elif seconds < 40:\n",
    "    print(\"The second third of minute\")\n",
    "else:\n",
    "    print(\"The last third of minute\")"
   ]
  },
  {
   "cell_type": "code",
   "execution_count": 20,
   "id": "024af9d3-abf5-447c-a609-3469cb82d4fb",
   "metadata": {},
   "outputs": [
    {
     "name": "stdin",
     "output_type": "stream",
     "text": [
      " terrain\n"
     ]
    },
    {
     "name": "stdout",
     "output_type": "stream",
     "text": [
      "It seems we have a new race\n"
     ]
    }
   ],
   "source": [
    "selected_character = input()\n",
    "\n",
    "if selected_character == \"Protos\":\n",
    "    print(\"Protos is the most powerfull race\")\n",
    "elif selected_character == \"Zerg\":\n",
    "    print(\"Zerg is the most weak race\")\n",
    "    print(\"But spreads like plague\")\n",
    "elif selected_character == \"Terrain\":\n",
    "    print(\"Terrain is balanced race\")\n",
    "else:\n",
    "    print(\"It seems we have a new race\")"
   ]
  },
  {
   "cell_type": "code",
   "execution_count": null,
   "id": "f4ae2c69-5ea7-42e9-a190-ce6e4c4e931b",
   "metadata": {},
   "outputs": [],
   "source": []
  }
 ],
 "metadata": {
  "kernelspec": {
   "display_name": "Python 3 (ipykernel)",
   "language": "python",
   "name": "python3"
  },
  "language_info": {
   "codemirror_mode": {
    "name": "ipython",
    "version": 3
   },
   "file_extension": ".py",
   "mimetype": "text/x-python",
   "name": "python",
   "nbconvert_exporter": "python",
   "pygments_lexer": "ipython3",
   "version": "3.12.4"
  }
 },
 "nbformat": 4,
 "nbformat_minor": 5
}
