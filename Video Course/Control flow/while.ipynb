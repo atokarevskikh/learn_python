{
 "cells": [
  {
   "cell_type": "code",
   "execution_count": 1,
   "id": "3c977ef7-133c-43b9-b4ac-a6066f24cee1",
   "metadata": {},
   "outputs": [
    {
     "name": "stdout",
     "output_type": "stream",
     "text": [
      "i = 10\n",
      "i = 9\n",
      "i = 8\n",
      "i = 7\n",
      "i = 6\n",
      "i = 5\n",
      "i = 4\n",
      "i = 3\n",
      "i = 2\n",
      "i = 1\n"
     ]
    }
   ],
   "source": [
    "i = 10\n",
    "while i:\n",
    "    print(f'i = {i}')\n",
    "    i -= 1"
   ]
  },
  {
   "cell_type": "markdown",
   "id": "e1c4db72-7dde-4436-af5b-d14b227e83c5",
   "metadata": {},
   "source": [
    "while может иметь ветку else"
   ]
  },
  {
   "cell_type": "code",
   "execution_count": 2,
   "id": "ef43f0b1-05a5-473a-8a10-eac190eba209",
   "metadata": {},
   "outputs": [
    {
     "name": "stdout",
     "output_type": "stream",
     "text": [
      "x = 0\n",
      "x = 1\n",
      "x = 2\n",
      "end of cycle\n"
     ]
    }
   ],
   "source": [
    "x = 0\n",
    "while x < 3:\n",
    "    print(f'x = {x}')\n",
    "    x += 1\n",
    "else:\n",
    "    print('end of cycle')"
   ]
  },
  {
   "cell_type": "markdown",
   "id": "639dbef8-d75c-48ee-ab86-27294ac5f1aa",
   "metadata": {},
   "source": [
    "* break — преждевременный выход\n",
    "* continue — переход к следующей итерации\n",
    "* pass — пропускается интерпретатором"
   ]
  },
  {
   "cell_type": "code",
   "execution_count": 16,
   "id": "844f30c8-67b2-4def-ad22-de702bb5479a",
   "metadata": {},
   "outputs": [
    {
     "data": {
      "text/plain": [
       "121"
      ]
     },
     "execution_count": 16,
     "metadata": {},
     "output_type": "execute_result"
    }
   ],
   "source": [
    "sum = 0\n",
    "for n in range(1, 30):\n",
    "    if n % 2 == 0:\n",
    "        continue\n",
    "    else:\n",
    "        sum += n\n",
    "    if sum > 100:\n",
    "        break\n",
    "sum"
   ]
  },
  {
   "cell_type": "code",
   "execution_count": 19,
   "id": "ab1bba94-08db-4e63-8f48-363af2a58d67",
   "metadata": {},
   "outputs": [],
   "source": [
    "for n in range(1, 30):\n",
    "    pass"
   ]
  },
  {
   "cell_type": "code",
   "execution_count": null,
   "id": "0a550da4-1353-4281-be54-deda00f7519b",
   "metadata": {},
   "outputs": [],
   "source": []
  }
 ],
 "metadata": {
  "kernelspec": {
   "display_name": "Python 3 (ipykernel)",
   "language": "python",
   "name": "python3"
  },
  "language_info": {
   "codemirror_mode": {
    "name": "ipython",
    "version": 3
   },
   "file_extension": ".py",
   "mimetype": "text/x-python",
   "name": "python",
   "nbconvert_exporter": "python",
   "pygments_lexer": "ipython3",
   "version": "3.12.4"
  }
 },
 "nbformat": 4,
 "nbformat_minor": 5
}
