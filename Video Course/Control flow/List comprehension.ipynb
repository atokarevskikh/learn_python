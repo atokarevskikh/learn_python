{
 "cells": [
  {
   "cell_type": "markdown",
   "id": "5e9fefa4-a2c1-4eea-aeeb-bc6f41c476c3",
   "metadata": {},
   "source": [
    "# List Comprehension #"
   ]
  },
  {
   "cell_type": "code",
   "execution_count": 6,
   "id": "e953ac21-9bd6-488d-9682-aa613c83ac6c",
   "metadata": {},
   "outputs": [
    {
     "data": {
      "text/plain": [
       "['H', 'e', 'l', 'l', 'o', ',', ' ', 'w', 'o', 'r', 'l', 'd']"
      ]
     },
     "execution_count": 6,
     "metadata": {},
     "output_type": "execute_result"
    }
   ],
   "source": [
    "greeting = \"Hello, world\"\n",
    "chars = []\n",
    "for l in greeting:\n",
    "    chars.append(l)\n",
    "chars"
   ]
  },
  {
   "cell_type": "code",
   "execution_count": 8,
   "id": "7d1091f2-5e33-4f8c-a9a4-f30a3808304d",
   "metadata": {},
   "outputs": [
    {
     "data": {
      "text/plain": [
       "['H', 'e', 'l', 'l', 'o', ',', ' ', 'w', 'o', 'r', 'l', 'd']"
      ]
     },
     "execution_count": 8,
     "metadata": {},
     "output_type": "execute_result"
    }
   ],
   "source": [
    "chars = [l for l in greeting]\n",
    "chars"
   ]
  },
  {
   "cell_type": "code",
   "execution_count": 12,
   "id": "5ced8ff4-cf46-43a1-92ca-7004be10a2e5",
   "metadata": {},
   "outputs": [
    {
     "data": {
      "text/plain": [
       "[0, 1, 2, 3, 4, 5, 6, 7, 8, 9]"
      ]
     },
     "execution_count": 12,
     "metadata": {},
     "output_type": "execute_result"
    }
   ],
   "source": [
    "digits = [d for d in range(0, 10)]\n",
    "digits"
   ]
  },
  {
   "cell_type": "markdown",
   "id": "ca9e135b-a6a4-49b1-b075-8f56b7bd666e",
   "metadata": {},
   "source": [
    "Преобразование элемента"
   ]
  },
  {
   "cell_type": "code",
   "execution_count": 16,
   "id": "cb8cb84c-9a0b-449a-ae10-3e51da46614e",
   "metadata": {},
   "outputs": [
    {
     "data": {
      "text/plain": [
       "[1,\n",
       " 4,\n",
       " 9,\n",
       " 16,\n",
       " 25,\n",
       " 36,\n",
       " 49,\n",
       " 64,\n",
       " 81,\n",
       " 100,\n",
       " 121,\n",
       " 144,\n",
       " 169,\n",
       " 196,\n",
       " 225,\n",
       " 256,\n",
       " 289,\n",
       " 324,\n",
       " 361]"
      ]
     },
     "execution_count": 16,
     "metadata": {},
     "output_type": "execute_result"
    }
   ],
   "source": [
    "squares = [n * n for n in range(1, 20)]\n",
    "squares"
   ]
  },
  {
   "cell_type": "markdown",
   "id": "b18daa8a-1f4d-49c0-be08-ce19656f5989",
   "metadata": {},
   "source": [
    "Накладывание условия на элемент"
   ]
  },
  {
   "cell_type": "code",
   "execution_count": 18,
   "id": "4849f2c6-7af1-4b0f-bb6b-0127408303c7",
   "metadata": {},
   "outputs": [
    {
     "data": {
      "text/plain": [
       "['H', 'e', 'l', 'l', 'o', 'w', 'o', 'r', 'l', 'd']"
      ]
     },
     "execution_count": 18,
     "metadata": {},
     "output_type": "execute_result"
    }
   ],
   "source": [
    "chars = [l for l in 'Hello, world!' if l.isalpha()]\n",
    "chars"
   ]
  },
  {
   "cell_type": "markdown",
   "id": "337b26a6-7d05-4765-b5d7-56e8f1393cda",
   "metadata": {},
   "source": [
    "Преобразование одного списка в другой"
   ]
  },
  {
   "cell_type": "code",
   "execution_count": 23,
   "id": "139662ec-7f5a-4d57-a531-9372da874efa",
   "metadata": {},
   "outputs": [
    {
     "data": {
      "text/plain": [
       "[4.72, 13.39, 20.47, 18.11, 11.02, 4.72, 11.02, 16.54]"
      ]
     },
     "execution_count": 23,
     "metadata": {},
     "output_type": "execute_result"
    }
   ],
   "source": [
    "len_in_centimeters = [12, 34, 52 ,46, 28, 12, 28, 42]\n",
    "len_in_inches = [round(cm / 2.54, 2) for cm in len_in_centimeters]\n",
    "len_in_inches"
   ]
  },
  {
   "cell_type": "markdown",
   "id": "89664e08-a7ac-4322-85f3-77910fd2f085",
   "metadata": {},
   "source": [
    "List comprehension позволяет использовать условия if, но код при этом легко может стать трудночитаемым. Else нельзя опускать!"
   ]
  },
  {
   "cell_type": "code",
   "execution_count": 28,
   "id": "e06a70d5-fb2c-47e7-9194-e53b1dcb225f",
   "metadata": {},
   "outputs": [
    {
     "data": {
      "text/plain": [
       "['MM', 'GM', 'GM', 'GM', 'MM', 'MM']"
      ]
     },
     "execution_count": 28,
     "metadata": {},
     "output_type": "execute_result"
    }
   ],
   "source": [
    "ratings = [2455, 2700, 2643, 2580, 2300, 2499]\n",
    "titles = ['GM' if x >= 2500 else 'MM' for x in ratings]\n",
    "titles"
   ]
  },
  {
   "cell_type": "markdown",
   "id": "f0d57d69-dac0-4af0-a7b3-6ef8953580d1",
   "metadata": {},
   "source": [
    "Можно вкладывать for друг в друга"
   ]
  },
  {
   "cell_type": "code",
   "execution_count": 32,
   "id": "17f63c10-93c1-43f5-a0e3-ca76b0ced80e",
   "metadata": {},
   "outputs": [
    {
     "data": {
      "text/plain": [
       "[(1, 1, 1),\n",
       " (1, 2, 2),\n",
       " (1, 3, 3),\n",
       " (1, 4, 4),\n",
       " (1, 5, 5),\n",
       " (1, 6, 6),\n",
       " (1, 7, 7),\n",
       " (1, 8, 8),\n",
       " (1, 9, 9),\n",
       " (2, 1, 2),\n",
       " (2, 2, 4),\n",
       " (2, 3, 6),\n",
       " (2, 4, 8),\n",
       " (2, 5, 10),\n",
       " (2, 6, 12),\n",
       " (2, 7, 14),\n",
       " (2, 8, 16),\n",
       " (2, 9, 18),\n",
       " (3, 1, 3),\n",
       " (3, 2, 6),\n",
       " (3, 3, 9),\n",
       " (3, 4, 12),\n",
       " (3, 5, 15),\n",
       " (3, 6, 18),\n",
       " (3, 7, 21),\n",
       " (3, 8, 24),\n",
       " (3, 9, 27),\n",
       " (4, 1, 4),\n",
       " (4, 2, 8),\n",
       " (4, 3, 12),\n",
       " (4, 4, 16),\n",
       " (4, 5, 20),\n",
       " (4, 6, 24),\n",
       " (4, 7, 28),\n",
       " (4, 8, 32),\n",
       " (4, 9, 36),\n",
       " (5, 1, 5),\n",
       " (5, 2, 10),\n",
       " (5, 3, 15),\n",
       " (5, 4, 20),\n",
       " (5, 5, 25),\n",
       " (5, 6, 30),\n",
       " (5, 7, 35),\n",
       " (5, 8, 40),\n",
       " (5, 9, 45),\n",
       " (6, 1, 6),\n",
       " (6, 2, 12),\n",
       " (6, 3, 18),\n",
       " (6, 4, 24),\n",
       " (6, 5, 30),\n",
       " (6, 6, 36),\n",
       " (6, 7, 42),\n",
       " (6, 8, 48),\n",
       " (6, 9, 54),\n",
       " (7, 1, 7),\n",
       " (7, 2, 14),\n",
       " (7, 3, 21),\n",
       " (7, 4, 28),\n",
       " (7, 5, 35),\n",
       " (7, 6, 42),\n",
       " (7, 7, 49),\n",
       " (7, 8, 56),\n",
       " (7, 9, 63),\n",
       " (8, 1, 8),\n",
       " (8, 2, 16),\n",
       " (8, 3, 24),\n",
       " (8, 4, 32),\n",
       " (8, 5, 40),\n",
       " (8, 6, 48),\n",
       " (8, 7, 56),\n",
       " (8, 8, 64),\n",
       " (8, 9, 72),\n",
       " (9, 1, 9),\n",
       " (9, 2, 18),\n",
       " (9, 3, 27),\n",
       " (9, 4, 36),\n",
       " (9, 5, 45),\n",
       " (9, 6, 54),\n",
       " (9, 7, 63),\n",
       " (9, 8, 72),\n",
       " (9, 9, 81)]"
      ]
     },
     "execution_count": 32,
     "metadata": {},
     "output_type": "execute_result"
    }
   ],
   "source": [
    "table_of_multiplication = [(x, y, x * y) for x in range(1, 10) for y in range(1, 10)]\n",
    "table_of_multiplication"
   ]
  },
  {
   "cell_type": "code",
   "execution_count": null,
   "id": "307f8808-6252-483f-8c0a-4f951d5a7e18",
   "metadata": {},
   "outputs": [],
   "source": []
  }
 ],
 "metadata": {
  "kernelspec": {
   "display_name": "Python 3 (ipykernel)",
   "language": "python",
   "name": "python3"
  },
  "language_info": {
   "codemirror_mode": {
    "name": "ipython",
    "version": 3
   },
   "file_extension": ".py",
   "mimetype": "text/x-python",
   "name": "python",
   "nbconvert_exporter": "python",
   "pygments_lexer": "ipython3",
   "version": "3.12.4"
  }
 },
 "nbformat": 4,
 "nbformat_minor": 5
}
