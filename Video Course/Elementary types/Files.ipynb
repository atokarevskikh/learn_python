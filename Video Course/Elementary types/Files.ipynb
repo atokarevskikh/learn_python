{
 "cells": [
  {
   "cell_type": "markdown",
   "id": "083eaabf-307a-4ad4-bbd4-f900e3b55e45",
   "metadata": {},
   "source": [
    "# Работа с файлами #\n",
    "pwd выводит текущую директорию, работает только в Jupyter  \n",
    "Другой вариант  \n",
    "import os  \n",
    "cwd = os.getcwd()  "
   ]
  },
  {
   "cell_type": "code",
   "execution_count": 2,
   "id": "9693bd05-9b61-47d5-97fd-be57918054b6",
   "metadata": {},
   "outputs": [
    {
     "data": {
      "text/plain": [
       "'C:\\\\Users\\\\artemt.ONPREM\\\\Projects\\\\Elementary types'"
      ]
     },
     "execution_count": 2,
     "metadata": {},
     "output_type": "execute_result"
    }
   ],
   "source": [
    "pwd"
   ]
  },
  {
   "cell_type": "code",
   "execution_count": 2,
   "id": "e4a7671e-102a-40bb-ae86-dd0e30e4856e",
   "metadata": {},
   "outputs": [
    {
     "name": "stdout",
     "output_type": "stream",
     "text": [
      "C:\\Users\\artemt.ONPREM\\Projects\\learn_python\\Video Course\\Elementary types\n"
     ]
    }
   ],
   "source": [
    "import os\n",
    "cwd = os.getcwd()\n",
    "print(cwd)"
   ]
  },
  {
   "cell_type": "markdown",
   "id": "a778f055-bd0f-470e-9129-897381afece5",
   "metadata": {},
   "source": [
    "### Создание файла ###\n",
    "Только в Jupyter  "
   ]
  },
  {
   "cell_type": "code",
   "execution_count": 5,
   "id": "fad5fac4-182e-4d5e-b1ad-ce57fe6c9118",
   "metadata": {},
   "outputs": [
    {
     "name": "stdout",
     "output_type": "stream",
     "text": [
      "Overwriting sample.txt\n"
     ]
    }
   ],
   "source": [
    "%%writefile sample.txt\n",
    "Name|Phone\n",
    "Tim;12345\n",
    "Bob;23322"
   ]
  },
  {
   "cell_type": "markdown",
   "id": "506333bd-a2c6-4b0c-8666-75e97f686bdc",
   "metadata": {},
   "source": [
    "### Открытие файла ###"
   ]
  },
  {
   "cell_type": "code",
   "execution_count": 6,
   "id": "20b74da9-0582-4fb0-8de6-e8de031f9f6a",
   "metadata": {},
   "outputs": [
    {
     "name": "stdout",
     "output_type": "stream",
     "text": [
      "<class '_io.TextIOWrapper'>\n"
     ]
    },
    {
     "data": {
      "text/plain": [
       "<_io.TextIOWrapper name='sample.txt' mode='r' encoding='cp1252'>"
      ]
     },
     "execution_count": 6,
     "metadata": {},
     "output_type": "execute_result"
    }
   ],
   "source": [
    "file = open('sample.txt')\n",
    "print(type(file))\n",
    "file"
   ]
  },
  {
   "cell_type": "markdown",
   "id": "fd21488d-b361-4a3c-8aaa-11b869cac573",
   "metadata": {},
   "source": [
    "### Чтение из файла ###"
   ]
  },
  {
   "cell_type": "code",
   "execution_count": 8,
   "id": "bfb6c22c-0506-448e-8719-a8ee31bb8964",
   "metadata": {},
   "outputs": [
    {
     "name": "stdout",
     "output_type": "stream",
     "text": [
      "<class 'str'>\n",
      "Name|Phone\n",
      "Tim;12345\n",
      "Bob;23322\n",
      "Eric;70237\n",
      "Eric;70237\n"
     ]
    }
   ],
   "source": [
    "data = file.read()\n",
    "print(type(data))\n",
    "print(data)"
   ]
  },
  {
   "cell_type": "markdown",
   "id": "c34f957b-311c-42e0-98ae-cfc13dce8260",
   "metadata": {},
   "source": [
    "Курсор достиг конца файла, поэтому повторное чтение ничего не вернёт."
   ]
  },
  {
   "cell_type": "code",
   "execution_count": 11,
   "id": "463c861c-e9e8-4205-8fcb-95e8d798e028",
   "metadata": {},
   "outputs": [
    {
     "name": "stdout",
     "output_type": "stream",
     "text": [
      "\n"
     ]
    }
   ],
   "source": [
    "print(file.read())"
   ]
  },
  {
   "cell_type": "markdown",
   "id": "94e36c87-4c5a-409f-a2da-7cd4e33c3d09",
   "metadata": {},
   "source": [
    "Перемещение курсора в начало файла."
   ]
  },
  {
   "cell_type": "code",
   "execution_count": 13,
   "id": "adc1324c-3bdf-47cd-bac4-9422f5e7461f",
   "metadata": {},
   "outputs": [
    {
     "name": "stdout",
     "output_type": "stream",
     "text": [
      "Name|Phone\n",
      "Tim;12345\n",
      "Bob;23322\n",
      "\n"
     ]
    }
   ],
   "source": [
    "file.seek(0)\n",
    "print(file.read())"
   ]
  },
  {
   "cell_type": "code",
   "execution_count": 14,
   "id": "4ee0bd2c-f2b8-493f-9d0a-193532e56854",
   "metadata": {},
   "outputs": [
    {
     "data": {
      "text/plain": [
       "0"
      ]
     },
     "execution_count": 14,
     "metadata": {},
     "output_type": "execute_result"
    }
   ],
   "source": [
    "file.seek(0)"
   ]
  },
  {
   "cell_type": "markdown",
   "id": "91a97c40-6b3e-49a6-9f6e-953140bd2418",
   "metadata": {},
   "source": [
    "Чтение файла построчно."
   ]
  },
  {
   "cell_type": "code",
   "execution_count": 16,
   "id": "13a327cd-64c3-4479-aa3e-1d986fb6a031",
   "metadata": {},
   "outputs": [
    {
     "name": "stdout",
     "output_type": "stream",
     "text": [
      "<class 'str'>\n",
      "Name|Phone\n",
      "\n",
      "Tim;12345\n",
      "\n"
     ]
    },
    {
     "data": {
      "text/plain": [
       "0"
      ]
     },
     "execution_count": 16,
     "metadata": {},
     "output_type": "execute_result"
    }
   ],
   "source": [
    "line = file.readline()\n",
    "print(type(line))\n",
    "print(line)\n",
    "line = file.readline()\n",
    "print(line)\n",
    "file.seek(0)"
   ]
  },
  {
   "cell_type": "code",
   "execution_count": 10,
   "id": "03c47354-6b91-4c50-85ae-c300158cc4b0",
   "metadata": {},
   "outputs": [
    {
     "name": "stdout",
     "output_type": "stream",
     "text": [
      "<class 'list'>\n",
      "[]\n"
     ]
    },
    {
     "data": {
      "text/plain": [
       "0"
      ]
     },
     "execution_count": 10,
     "metadata": {},
     "output_type": "execute_result"
    }
   ],
   "source": [
    "lines = file.readlines()\n",
    "print(type(lines))\n",
    "print(lines)\n",
    "file.seek(0)"
   ]
  },
  {
   "cell_type": "markdown",
   "id": "63de7c36-e9c7-41de-8109-612df0d44c9c",
   "metadata": {},
   "source": [
    "По окончании работы файл необходимо закрыть."
   ]
  },
  {
   "cell_type": "code",
   "execution_count": 19,
   "id": "57deebe0-3bf0-424e-b722-315543423e39",
   "metadata": {},
   "outputs": [
    {
     "name": "stdout",
     "output_type": "stream",
     "text": [
      "False\n"
     ]
    }
   ],
   "source": [
    "print(file.closed)"
   ]
  },
  {
   "cell_type": "code",
   "execution_count": 12,
   "id": "2a4a9ed4-03da-4312-a124-63a259f22b64",
   "metadata": {},
   "outputs": [
    {
     "name": "stdout",
     "output_type": "stream",
     "text": [
      "True\n"
     ]
    }
   ],
   "source": [
    "file.close()\n",
    "print(file.closed)"
   ]
  },
  {
   "cell_type": "markdown",
   "id": "5c39cea7-3a7b-4ec0-ac04-d170015d1aec",
   "metadata": {},
   "source": [
    "Автоматическое закрытие файла после выхода за пределы блока кода."
   ]
  },
  {
   "cell_type": "code",
   "execution_count": 22,
   "id": "dd22bf52-82b9-4795-831e-dee8d0fd2c76",
   "metadata": {},
   "outputs": [],
   "source": [
    "with open('sample.txt') as sample_file:\n",
    "    sample_data = sample_file.readlines()"
   ]
  },
  {
   "cell_type": "code",
   "execution_count": 23,
   "id": "ccf8bdb9-e7a2-4519-8122-7f58c9791eee",
   "metadata": {},
   "outputs": [
    {
     "name": "stdout",
     "output_type": "stream",
     "text": [
      "['Name|Phone\\n', 'Tim;12345\\n', 'Bob;23322\\n']\n"
     ]
    }
   ],
   "source": [
    "print(sample_data)"
   ]
  },
  {
   "cell_type": "code",
   "execution_count": 24,
   "id": "44c2e6f6-0bcd-4a23-a8d9-3b7e9d1f4cf7",
   "metadata": {},
   "outputs": [
    {
     "data": {
      "text/plain": [
       "True"
      ]
     },
     "execution_count": 24,
     "metadata": {},
     "output_type": "execute_result"
    }
   ],
   "source": [
    "sample_file.closed"
   ]
  },
  {
   "cell_type": "markdown",
   "id": "167f9186-bf79-4ea6-8641-86e8f2875c4d",
   "metadata": {},
   "source": [
    "Режимы открытия файла  \n",
    "- r reading only (ошибка при записи)\n",
    "- w writing only (ошибка при чтении, переписывает существующий или создаёт новый)\n",
    "- a append only (ошибка при чтении или записи в несуществующий файл)\n",
    "- r+ reading and writing (ошибка при записи в несуществующий файл)\n",
    "- w+ reading and writing (перезаписывает существующий файл или создаёт новый)"
   ]
  },
  {
   "cell_type": "code",
   "execution_count": 26,
   "id": "bc8f50a9-ab78-4ba2-8015-b7081953745b",
   "metadata": {},
   "outputs": [
    {
     "name": "stdout",
     "output_type": "stream",
     "text": [
      "['Name|Phone\\n', 'Tim;12345\\n', 'Bob;23322\\n']\n"
     ]
    }
   ],
   "source": [
    "# Error if mode='w'\n",
    "with open('sample.txt', mode='r') as sample_file:\n",
    "    data = sample_file.readlines()\n",
    "    print(data)"
   ]
  },
  {
   "cell_type": "markdown",
   "id": "0c724c40-15d9-475b-a20c-e913a96948cf",
   "metadata": {},
   "source": [
    "Установка курсора  \n",
    "file.seek(0, 0) начало файла  \n",
    "file.seek(0, 1) от текущего положения курсора  \n",
    "file.seek(0, 2) конец файла  "
   ]
  },
  {
   "cell_type": "code",
   "execution_count": 51,
   "id": "91b97b72-5e0a-4ef4-8a24-e1a27984b852",
   "metadata": {},
   "outputs": [
    {
     "name": "stdout",
     "output_type": "stream",
     "text": [
      "Name|Phone\n",
      "Tim;12345\n",
      "Bob;23322\n",
      "Eric;70237\n",
      "Eric;70237\n"
     ]
    }
   ],
   "source": [
    "with open('sample.txt', mode='r+') as file:\n",
    "    file.seek(0, 2)\n",
    "    file.write('\\nEric;70237')\n",
    "    file.seek(0)\n",
    "    print(file.read())"
   ]
  },
  {
   "cell_type": "code",
   "execution_count": null,
   "id": "694d219a-2c0a-4f54-8806-f5b4c8631a04",
   "metadata": {},
   "outputs": [],
   "source": []
  }
 ],
 "metadata": {
  "kernelspec": {
   "display_name": "Python 3 (ipykernel)",
   "language": "python",
   "name": "python3"
  },
  "language_info": {
   "codemirror_mode": {
    "name": "ipython",
    "version": 3
   },
   "file_extension": ".py",
   "mimetype": "text/x-python",
   "name": "python",
   "nbconvert_exporter": "python",
   "pygments_lexer": "ipython3",
   "version": "3.12.4"
  }
 },
 "nbformat": 4,
 "nbformat_minor": 5
}
