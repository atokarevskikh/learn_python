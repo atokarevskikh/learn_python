{
 "cells": [
  {
   "cell_type": "code",
   "execution_count": 1,
   "id": "5d9ed327-c776-4fb6-8c39-dd2a23adf224",
   "metadata": {},
   "outputs": [
    {
     "data": {
      "text/plain": [
       "3"
      ]
     },
     "execution_count": 1,
     "metadata": {},
     "output_type": "execute_result"
    }
   ],
   "source": [
    "0+1\n",
    "1+2"
   ]
  },
  {
   "cell_type": "code",
   "execution_count": 2,
   "id": "fabf0b22-9c5a-4bc0-838e-e0f0f8a1ecc4",
   "metadata": {},
   "outputs": [
    {
     "data": {
      "text/plain": [
       "-2"
      ]
     },
     "execution_count": 2,
     "metadata": {},
     "output_type": "execute_result"
    }
   ],
   "source": [
    "3-5"
   ]
  },
  {
   "cell_type": "code",
   "execution_count": 3,
   "id": "0dcc9036-48c1-4e89-af7f-eb51119130a7",
   "metadata": {},
   "outputs": [
    {
     "data": {
      "text/plain": [
       "3.5"
      ]
     },
     "execution_count": 3,
     "metadata": {},
     "output_type": "execute_result"
    }
   ],
   "source": [
    "7/2"
   ]
  },
  {
   "cell_type": "code",
   "execution_count": 4,
   "id": "f9dbe1ae-f622-47d4-ba31-8d455da034f4",
   "metadata": {},
   "outputs": [
    {
     "data": {
      "text/plain": [
       "3.0"
      ]
     },
     "execution_count": 4,
     "metadata": {},
     "output_type": "execute_result"
    }
   ],
   "source": [
    "6/2"
   ]
  },
  {
   "cell_type": "code",
   "execution_count": 5,
   "id": "95612ce5-7766-4492-a786-c41a54cc7a09",
   "metadata": {},
   "outputs": [
    {
     "data": {
      "text/plain": [
       "1.0"
      ]
     },
     "execution_count": 5,
     "metadata": {},
     "output_type": "execute_result"
    }
   ],
   "source": [
    "1/1"
   ]
  },
  {
   "cell_type": "code",
   "execution_count": 6,
   "id": "c2c6603f-f63c-485a-8bda-f55c403c27b3",
   "metadata": {},
   "outputs": [
    {
     "data": {
      "text/plain": [
       "12"
      ]
     },
     "execution_count": 6,
     "metadata": {},
     "output_type": "execute_result"
    }
   ],
   "source": [
    "4*3"
   ]
  },
  {
   "cell_type": "code",
   "execution_count": 7,
   "id": "32724c09-eeb1-40ab-8dc6-29c799dd1f53",
   "metadata": {},
   "outputs": [
    {
     "data": {
      "text/plain": [
       "12.0"
      ]
     },
     "execution_count": 7,
     "metadata": {},
     "output_type": "execute_result"
    }
   ],
   "source": [
    "4*3.0"
   ]
  },
  {
   "cell_type": "code",
   "execution_count": 8,
   "id": "65ab8435-e419-45a9-96b3-5de82ba3403e",
   "metadata": {},
   "outputs": [
    {
     "data": {
      "text/plain": [
       "10.0"
      ]
     },
     "execution_count": 8,
     "metadata": {},
     "output_type": "execute_result"
    }
   ],
   "source": [
    "2 * 5.0"
   ]
  },
  {
   "cell_type": "code",
   "execution_count": 9,
   "id": "3e83cd22-23d2-48a3-b713-4403663f6d74",
   "metadata": {},
   "outputs": [
    {
     "data": {
      "text/plain": [
       "3.5999999999999996"
      ]
     },
     "execution_count": 9,
     "metadata": {},
     "output_type": "execute_result"
    }
   ],
   "source": [
    "1.2 * 3\n"
   ]
  },
  {
   "cell_type": "code",
   "execution_count": 10,
   "id": "83921e9e-4cb3-4f6e-973a-8c4d8d0091a3",
   "metadata": {},
   "outputs": [
    {
     "data": {
      "text/plain": [
       "0.6"
      ]
     },
     "execution_count": 10,
     "metadata": {},
     "output_type": "execute_result"
    }
   ],
   "source": [
    "0.3 * 2"
   ]
  },
  {
   "cell_type": "code",
   "execution_count": 11,
   "id": "d34bc61f-950d-4312-af1a-11e273a47ba4",
   "metadata": {},
   "outputs": [
    {
     "data": {
      "text/plain": [
       "1.7999999999999998"
      ]
     },
     "execution_count": 11,
     "metadata": {},
     "output_type": "execute_result"
    }
   ],
   "source": [
    "0.6 * 3"
   ]
  },
  {
   "cell_type": "code",
   "execution_count": 12,
   "id": "739ddf89-93a1-405f-9c28-9fae9b240f90",
   "metadata": {},
   "outputs": [
    {
     "data": {
      "text/plain": [
       "1.8"
      ]
     },
     "execution_count": 12,
     "metadata": {},
     "output_type": "execute_result"
    }
   ],
   "source": [
    "round(0.6 * 3, 2)"
   ]
  },
  {
   "cell_type": "code",
   "execution_count": 13,
   "id": "832a154b-54c4-4df9-88af-2ca59f822d62",
   "metadata": {},
   "outputs": [
    {
     "data": {
      "text/plain": [
       "1"
      ]
     },
     "execution_count": 13,
     "metadata": {},
     "output_type": "execute_result"
    }
   ],
   "source": [
    "7%2"
   ]
  },
  {
   "cell_type": "code",
   "execution_count": 14,
   "id": "2803059b-41b2-4003-9b6a-46025023764e",
   "metadata": {},
   "outputs": [
    {
     "data": {
      "text/plain": [
       "True"
      ]
     },
     "execution_count": 14,
     "metadata": {},
     "output_type": "execute_result"
    }
   ],
   "source": [
    "4 % 2 == 0"
   ]
  },
  {
   "cell_type": "code",
   "execution_count": 15,
   "id": "ad4c3426-d168-4dc5-9c6f-df744a6fd867",
   "metadata": {},
   "outputs": [
    {
     "data": {
      "text/plain": [
       "1024"
      ]
     },
     "execution_count": 15,
     "metadata": {},
     "output_type": "execute_result"
    }
   ],
   "source": [
    "2**10"
   ]
  },
  {
   "cell_type": "code",
   "execution_count": 16,
   "id": "c0fbb8db-960f-4176-88a7-304c96e9a867",
   "metadata": {},
   "outputs": [
    {
     "data": {
      "text/plain": [
       "6"
      ]
     },
     "execution_count": 16,
     "metadata": {},
     "output_type": "execute_result"
    }
   ],
   "source": [
    "(2 + 2) * 2\n",
    "2 + 2 * 2"
   ]
  },
  {
   "cell_type": "code",
   "execution_count": 17,
   "id": "ed64fcc6-6410-4265-9389-85451c76b083",
   "metadata": {},
   "outputs": [
    {
     "data": {
      "text/plain": [
       "8"
      ]
     },
     "execution_count": 17,
     "metadata": {},
     "output_type": "execute_result"
    }
   ],
   "source": [
    "(2 + 2) * 2"
   ]
  },
  {
   "cell_type": "code",
   "execution_count": 18,
   "id": "860da9fe-73b2-4163-8ccd-dacefec3506b",
   "metadata": {},
   "outputs": [
    {
     "data": {
      "text/plain": [
       "18446744073709551616"
      ]
     },
     "execution_count": 18,
     "metadata": {},
     "output_type": "execute_result"
    }
   ],
   "source": [
    "2**64"
   ]
  },
  {
   "cell_type": "code",
   "execution_count": 19,
   "id": "d4c607d8-9575-4c6c-9bf3-c813260945b6",
   "metadata": {},
   "outputs": [
    {
     "data": {
      "text/plain": [
       "100000000000000000000000000000000000000000000000000000000000000000000000000000000000000000000000000000000000000000000000000000000000000000000000000000000000000000000000000000000000000000000000000000000"
      ]
     },
     "execution_count": 19,
     "metadata": {},
     "output_type": "execute_result"
    }
   ],
   "source": [
    "100**100\n"
   ]
  },
  {
   "cell_type": "code",
   "execution_count": 20,
   "id": "5395c588-9627-4f5b-aca2-6b90a27d5925",
   "metadata": {},
   "outputs": [],
   "source": [
    "x = 3\n",
    "x = x + x"
   ]
  },
  {
   "cell_type": "code",
   "execution_count": 21,
   "id": "4266024c-b4f8-4ae1-ac69-294057a4f9ef",
   "metadata": {},
   "outputs": [
    {
     "data": {
      "text/plain": [
       "6"
      ]
     },
     "execution_count": 21,
     "metadata": {},
     "output_type": "execute_result"
    }
   ],
   "source": [
    "x"
   ]
  },
  {
   "cell_type": "code",
   "execution_count": 22,
   "id": "244ad850-56ed-4b62-b2ce-7fcab2ef0661",
   "metadata": {},
   "outputs": [],
   "source": [
    "x = 3.8"
   ]
  },
  {
   "cell_type": "code",
   "execution_count": 23,
   "id": "7cb02776-b39c-4dc0-a8e7-590718738894",
   "metadata": {},
   "outputs": [
    {
     "data": {
      "text/plain": [
       "3.8"
      ]
     },
     "execution_count": 23,
     "metadata": {},
     "output_type": "execute_result"
    }
   ],
   "source": [
    "x"
   ]
  },
  {
   "cell_type": "code",
   "execution_count": 24,
   "id": "d41edb24-8189-4ec9-ae4c-cadd03ff497c",
   "metadata": {},
   "outputs": [],
   "source": [
    "x = \"NaN\""
   ]
  },
  {
   "cell_type": "code",
   "execution_count": 25,
   "id": "fee1a102-e7c0-401d-ba16-6824a1590556",
   "metadata": {},
   "outputs": [
    {
     "data": {
      "text/plain": [
       "'NaN'"
      ]
     },
     "execution_count": 25,
     "metadata": {},
     "output_type": "execute_result"
    }
   ],
   "source": [
    "x"
   ]
  },
  {
   "cell_type": "code",
   "execution_count": 26,
   "id": "c141fad0-a0b8-4cce-927e-ef6492e9b268",
   "metadata": {},
   "outputs": [
    {
     "data": {
      "text/plain": [
       "str"
      ]
     },
     "execution_count": 26,
     "metadata": {},
     "output_type": "execute_result"
    }
   ],
   "source": [
    "type(x)"
   ]
  },
  {
   "cell_type": "code",
   "execution_count": 27,
   "id": "45243748-f700-4bb4-ad3a-614143541781",
   "metadata": {},
   "outputs": [],
   "source": [
    "x = 3.5"
   ]
  },
  {
   "cell_type": "code",
   "execution_count": 28,
   "id": "096b67c3-72c7-402e-a879-100d6561bff4",
   "metadata": {},
   "outputs": [
    {
     "data": {
      "text/plain": [
       "float"
      ]
     },
     "execution_count": 28,
     "metadata": {},
     "output_type": "execute_result"
    }
   ],
   "source": [
    "type(x)"
   ]
  },
  {
   "cell_type": "code",
   "execution_count": 29,
   "id": "77cc1562-dde9-43f2-bf79-32f63a12e743",
   "metadata": {},
   "outputs": [],
   "source": [
    "#x + \"www\""
   ]
  },
  {
   "cell_type": "code",
   "execution_count": 30,
   "id": "bbd0403f-7575-45d9-bd1b-96ecd1c23e6e",
   "metadata": {},
   "outputs": [
    {
     "name": "stdout",
     "output_type": "stream",
     "text": [
      "16.24807680927192\n"
     ]
    }
   ],
   "source": [
    "import math\n",
    "a = 10\n",
    "b = 5\n",
    "c = 7\n",
    "p = (a + b + c) / 2\n",
    "area = math.sqrt(p * (p - a) * (p - b) * (p - c))\n",
    "print(area)"
   ]
  },
  {
   "cell_type": "code",
   "execution_count": 31,
   "id": "762b1a06-56ea-46f7-87d3-290170f0f654",
   "metadata": {},
   "outputs": [
    {
     "data": {
      "text/plain": [
       "1.4142135623730951"
      ]
     },
     "execution_count": 31,
     "metadata": {},
     "output_type": "execute_result"
    }
   ],
   "source": [
    "import math\n",
    "math.sqrt(2)"
   ]
  },
  {
   "cell_type": "code",
   "execution_count": null,
   "id": "60900102-7a7e-470e-af73-592ef4a5af67",
   "metadata": {},
   "outputs": [],
   "source": []
  },
  {
   "cell_type": "code",
   "execution_count": null,
   "id": "5ada359c-5d68-44c5-adcb-137ac9da975f",
   "metadata": {},
   "outputs": [],
   "source": []
  }
 ],
 "metadata": {
  "kernelspec": {
   "display_name": "Python 3 (ipykernel)",
   "language": "python",
   "name": "python3"
  },
  "language_info": {
   "codemirror_mode": {
    "name": "ipython",
    "version": 3
   },
   "file_extension": ".py",
   "mimetype": "text/x-python",
   "name": "python",
   "nbconvert_exporter": "python",
   "pygments_lexer": "ipython3",
   "version": "3.12.4"
  }
 },
 "nbformat": 4,
 "nbformat_minor": 5
}
