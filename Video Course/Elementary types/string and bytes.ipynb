{
 "cells": [
  {
   "cell_type": "markdown",
   "id": "d06c90d7-81e4-48a1-b606-d6fb21d0d467",
   "metadata": {},
   "source": [
    "# Строки и байты #\n",
    "По умолчанию в Python символы хранятся в Unicode а кодировочная таблица utf-8."
   ]
  },
  {
   "cell_type": "code",
   "execution_count": 1,
   "id": "107e09aa-fd9a-4bb9-aaa1-77d198b7f48c",
   "metadata": {},
   "outputs": [
    {
     "data": {
      "text/plain": [
       "'utf-8'"
      ]
     },
     "execution_count": 1,
     "metadata": {},
     "output_type": "execute_result"
    }
   ],
   "source": [
    "import sys\n",
    "sys.getdefaultencoding()"
   ]
  },
  {
   "cell_type": "markdown",
   "id": "079d4a34-6d5f-43dc-b2f9-8407138a5155",
   "metadata": {},
   "source": [
    "Код символа, символ по коду"
   ]
  },
  {
   "cell_type": "code",
   "execution_count": 10,
   "id": "00d05da2-6095-47fb-9632-507d12fabce7",
   "metadata": {},
   "outputs": [
    {
     "data": {
      "text/plain": [
       "65"
      ]
     },
     "execution_count": 10,
     "metadata": {},
     "output_type": "execute_result"
    }
   ],
   "source": [
    "ord('A')"
   ]
  },
  {
   "cell_type": "code",
   "execution_count": 14,
   "id": "1f73f3ce-054d-4e26-a3dc-de5be7256e03",
   "metadata": {},
   "outputs": [
    {
     "data": {
      "text/plain": [
       "'q'"
      ]
     },
     "execution_count": 14,
     "metadata": {},
     "output_type": "execute_result"
    }
   ],
   "source": [
    "chr(113)"
   ]
  },
  {
   "cell_type": "markdown",
   "id": "f1b9a26e-3326-44c7-93c2-e271f3c7fd75",
   "metadata": {},
   "source": [
    "Перевод строки в байты."
   ]
  },
  {
   "cell_type": "code",
   "execution_count": 3,
   "id": "58a0c7ae-f049-4566-92ce-264cf4dc2f24",
   "metadata": {},
   "outputs": [
    {
     "name": "stdout",
     "output_type": "stream",
     "text": [
      "<class 'bytes'>\n",
      "b'Hello!'\n",
      "b'Hello!'\n",
      "b'\\xff\\xfeH\\x00e\\x00l\\x00l\\x00o\\x00!\\x00'\n"
     ]
    }
   ],
   "source": [
    "s = \"Hello!\"\n",
    "enc_ascii = s.encode('ascii')\n",
    "enc_utf8 = s.encode('utf8')\n",
    "enc_utf16 = s.encode('utf16')\n",
    "\n",
    "print(type(enc_ascii))\n",
    "print(enc_ascii)\n",
    "print(enc_utf8)\n",
    "print(enc_utf16)"
   ]
  },
  {
   "cell_type": "code",
   "execution_count": 29,
   "id": "4f7e5402-8d25-4a0a-bc22-30b87b355337",
   "metadata": {},
   "outputs": [
    {
     "name": "stdout",
     "output_type": "stream",
     "text": [
      "6\n",
      "6\n",
      "14\n"
     ]
    }
   ],
   "source": [
    "print(len(enc_ascii))\n",
    "print(len(enc_utf8))\n",
    "print(len(enc_utf16))"
   ]
  },
  {
   "cell_type": "code",
   "execution_count": 33,
   "id": "2483c4c1-9e6b-467b-b48a-054fb10f9d30",
   "metadata": {},
   "outputs": [
    {
     "name": "stdout",
     "output_type": "stream",
     "text": [
      "b'\\xd0\\x9f\\xd1\\x80\\xd0\\xb8\\xd0\\xb2\\xd0\\xb5\\xd1\\x82!'\n",
      "b'\\xff\\xfe\\x1f\\x04@\\x048\\x042\\x045\\x04B\\x04!\\x00'\n"
     ]
    }
   ],
   "source": [
    "s = \"Привет!\"\n",
    "enc_utf8 = s.encode('utf8')\n",
    "enc_utf16 = s.encode('utf16')\n",
    "\n",
    "print(enc_utf8)\n",
    "print(enc_utf16)"
   ]
  },
  {
   "cell_type": "code",
   "execution_count": 35,
   "id": "453daa2e-63e7-4b00-ad94-6cfb1f9c539c",
   "metadata": {},
   "outputs": [
    {
     "name": "stdout",
     "output_type": "stream",
     "text": [
      "13\n",
      "16\n"
     ]
    }
   ],
   "source": [
    "print(len(enc_utf8))\n",
    "print(len(enc_utf16))"
   ]
  },
  {
   "cell_type": "markdown",
   "id": "a8f80e15-58f2-4a2d-9493-fbb3098bd584",
   "metadata": {},
   "source": [
    "str и bytes неизменяемые типы.  \n",
    "Изменяемый тип bytearray."
   ]
  },
  {
   "cell_type": "code",
   "execution_count": 5,
   "id": "01f40c4b-8bad-4531-a244-8b0fd71f4c0f",
   "metadata": {},
   "outputs": [
    {
     "data": {
      "text/plain": [
       "bytearray(b'Wello')"
      ]
     },
     "execution_count": 5,
     "metadata": {},
     "output_type": "execute_result"
    }
   ],
   "source": [
    "ba = bytearray(b'hello')\n",
    "ba[0] = 87\n",
    "ba"
   ]
  },
  {
   "cell_type": "markdown",
   "id": "1e27892b-e74c-4081-a04c-050cf64c62b2",
   "metadata": {},
   "source": [
    "При переводе байтов в строку обязательно указывать кодировку."
   ]
  },
  {
   "cell_type": "code",
   "execution_count": 43,
   "id": "4f17fc98-f909-4e65-b41f-9fc3546f7756",
   "metadata": {},
   "outputs": [
    {
     "name": "stdout",
     "output_type": "stream",
     "text": [
      "hello\n"
     ]
    }
   ],
   "source": [
    "b = b'hello'\n",
    "text = str(b, 'utf8')\n",
    "print(text)"
   ]
  },
  {
   "cell_type": "markdown",
   "id": "acc8ccde-26e1-435c-8322-958c2d09095e",
   "metadata": {},
   "source": [
    "Лучше использовать функцию decode"
   ]
  },
  {
   "cell_type": "code",
   "execution_count": 46,
   "id": "3bc706c6-52d0-4ea5-b48a-bcb315ae8e36",
   "metadata": {},
   "outputs": [
    {
     "name": "stdout",
     "output_type": "stream",
     "text": [
      "hello\n"
     ]
    }
   ],
   "source": [
    "text = b.decode('utf8')\n",
    "print(text)"
   ]
  },
  {
   "cell_type": "code",
   "execution_count": null,
   "id": "042d5153-c8e5-4d31-a357-3e3c5dca7ec4",
   "metadata": {},
   "outputs": [],
   "source": []
  }
 ],
 "metadata": {
  "kernelspec": {
   "display_name": "Python 3 (ipykernel)",
   "language": "python",
   "name": "python3"
  },
  "language_info": {
   "codemirror_mode": {
    "name": "ipython",
    "version": 3
   },
   "file_extension": ".py",
   "mimetype": "text/x-python",
   "name": "python",
   "nbconvert_exporter": "python",
   "pygments_lexer": "ipython3",
   "version": "3.12.4"
  }
 },
 "nbformat": 4,
 "nbformat_minor": 5
}
