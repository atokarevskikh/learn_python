{
 "cells": [
  {
   "cell_type": "markdown",
   "id": "91435061-50ca-4197-823d-21f5b245322f",
   "metadata": {},
   "source": [
    "# Строки #\n",
    "## Объявление строк ##\n",
    "Одинарные и двойные кавычки равнозначны и могут быть вложены. У элементарных типов есть конструкторы, например str(\"Hello\").     \n",
    "## Escape последовательности и экранирование ##\n",
    "\\\\\" экранирование кавычек.  \n",
    "- \\r - перевод каретки.  \n",
    "- \\n - перевод строки. Работает и в Windows, и в Linux.  \n",
    "- r\"...\" отменяет экранирование в строке.\n"
   ]
  },
  {
   "cell_type": "code",
   "execution_count": 3,
   "id": "e23689fb-6a93-43dd-9829-d33b5c619b86",
   "metadata": {},
   "outputs": [
    {
     "name": "stdout",
     "output_type": "stream",
     "text": [
      "I'm wanting \"Python\"!\n",
      "C:\\users\\Artem\n",
      "C:\\users\\Artem\n"
     ]
    }
   ],
   "source": [
    "a = 'Hello'\n",
    "b = \"World\"\n",
    "name = \"I'm Tim\"\n",
    "c = \"I'm wanting \\\"Python\\\"!\"\n",
    "print(c)\n",
    "path = \"C:\\\\users\\\\Artem\"\n",
    "print(path)\n",
    "path = r\"C:\\users\\Artem\"\n",
    "print(path)"
   ]
  },
  {
   "cell_type": "markdown",
   "id": "ff34dd8a-38f1-4ab4-9a4e-852d8c3521e4",
   "metadata": {},
   "source": [
    "## Обращение по индексу ##\n",
    "[0] обращение по индексу. a[-1] - последний индекс. Но нельзя изменять символ в строке, так как строки не изменяемы.\n",
    "## Срезы ##\n",
    "Получение подстроки, не меняя исходную. name[0:25:2] три аргумента, которые можно опускать.\n",
    "1. С какого индекса вырезаем\n",
    "2. По какой индекс вырезаем (не входит в подстроку)\n",
    "3. Периодичность (часть симолов может быть опущена)\n"
   ]
  },
  {
   "cell_type": "code",
   "execution_count": 5,
   "id": "f20cfb37-c383-4490-b77d-c8c8a7e4b081",
   "metadata": {},
   "outputs": [
    {
     "name": "stdout",
     "output_type": "stream",
     "text": [
      "3456789\n",
      "234\n",
      "02468\n",
      "147\n"
     ]
    }
   ],
   "source": [
    "digits = \"0123456789\"\n",
    "print(digits[3::])\n",
    "print(digits[2:5:])\n",
    "print(digits[::2])\n",
    "print(digits[1::3])"
   ]
  },
  {
   "cell_type": "markdown",
   "id": "dd3f295b-9e06-40b9-9be4-cde5add121f6",
   "metadata": {},
   "source": [
    "## Функции работы со строками ##\n",
    "Функции не меняют исходную строку.  \n",
    "len(x) количество символов в строке  \n",
    "x.count('l') количество вхождения символа в строку  \n",
    "x.capitalize() делает первый символ верхним регистром и остальные нижним  \n",
    "x.upper() переводит всю строку в верхний регистр  \n",
    "x.lower() переводит всю строку в нижний регистр  \n",
    "x.isupper() находится ли строка в верхнем регистре  \n",
    "x.islower() находится ли строка в нижнем регистре   "
   ]
  },
  {
   "cell_type": "code",
   "execution_count": 9,
   "id": "418b9ec3-92e7-49b2-b7ce-d2c0625cac45",
   "metadata": {},
   "outputs": [
    {
     "name": "stdout",
     "output_type": "stream",
     "text": [
      "string length is 21\n",
      "l enters in string 2 times\n",
      "\n",
      "  Регистр\n",
      "Hello, my name is tim\n",
      "hello, my name is tim\n",
      "True\n",
      "False\n",
      "Hello, my name is Tim\n"
     ]
    }
   ],
   "source": [
    "x = \"Hello, my name is Tim\"\n",
    "print(\"string length is {}\".format(len(x)))\n",
    "print(\"l enters in string {0} times\".format(x.count('l')))\n",
    "\n",
    "print(\"\\n  Регистр\")\n",
    "y = x.capitalize()\n",
    "print(y)\n",
    "y = x.lower()\n",
    "print(y)\n",
    "y = x.upper()\n",
    "print(y.isupper())\n",
    "print(x.isupper())\n",
    "print(x)"
   ]
  },
  {
   "cell_type": "markdown",
   "id": "6534952c-c9b1-4e38-ae75-9c7d2677843b",
   "metadata": {},
   "source": [
    "x.find('my') индекс вхождения подстроки в строку  \n",
    "x.find('l', 5, 10) может принимать дополнительные параметры с какого по какой индекс искать "
   ]
  },
  {
   "cell_type": "code",
   "execution_count": 11,
   "id": "3b3d63d3-f012-436d-9646-4f5159db8589",
   "metadata": {},
   "outputs": [
    {
     "name": "stdout",
     "output_type": "stream",
     "text": [
      "7\n",
      "-1\n"
     ]
    }
   ],
   "source": [
    "print(x.find('my'))\n",
    "print(x.find('l', 1, 2))"
   ]
  },
  {
   "cell_type": "markdown",
   "id": "23cb57df-4e75-4583-8b97-540802e4ac02",
   "metadata": {},
   "source": [
    "x.isalpha() состоит ли строка из одних букв  \n",
    "x.isalnum() состоит ли строка только из букв и цифр  \n",
    "x.isspace() состоит ли строка только из пробелов, пустая строка вернёт False  \n",
    "x.strip('s') удаляет в конце строки символы, перечисленные в параметре; без параметра удаляет пробелы  "
   ]
  },
  {
   "cell_type": "code",
   "execution_count": 10,
   "id": "ac639e45-8bbd-45a5-ae1d-ab9a4a35bba2",
   "metadata": {},
   "outputs": [
    {
     "name": "stdout",
     "output_type": "stream",
     "text": [
      "True\n",
      "True\n",
      "True\n",
      "True\n",
      "Hello, my name is T\n",
      "My name is T\n",
      "True\n"
     ]
    }
   ],
   "source": [
    "print(\"Abc\".isalpha())\n",
    "print(\"Артём\".isalpha())\n",
    "print(\"123abc\".isalnum())\n",
    "print(\"   \".isspace())\n",
    "print(x.strip(\"im\"))\n",
    "print(\"My name is Timimimim\".strip(\"im\"))\n",
    "print(\"  \".strip() == \"\")"
   ]
  },
  {
   "cell_type": "markdown",
   "id": "b5e88d08-8a14-4ba9-ba7d-208c33881fa0",
   "metadata": {},
   "source": [
    "\n",
    "x.startswith(\"Hello\") начинается ли строка подстрокой  \n",
    "x.endswith(\"Tim\") заканчивается ли строка подстрокой  "
   ]
  },
  {
   "cell_type": "code",
   "execution_count": 12,
   "id": "5c4303b1-84ab-461c-a85e-d089367ef0db",
   "metadata": {},
   "outputs": [
    {
     "name": "stdout",
     "output_type": "stream",
     "text": [
      "False\n",
      "True\n",
      "True\n"
     ]
    }
   ],
   "source": [
    "print(x.startswith('hello'))\n",
    "print(x.startswith('Hello'))\n",
    "print(x.endswith('im'))"
   ]
  },
  {
   "cell_type": "markdown",
   "id": "9ebe3813-370a-4204-be30-a500d2d6fc22",
   "metadata": {},
   "source": [
    "\n",
    "x.split(\" \") разбиение строки на части  \n",
    "x.partition(\"is\") разбиение строки на три части, возвращает кортеж"
   ]
  },
  {
   "cell_type": "code",
   "execution_count": 13,
   "id": "39834e56-0283-4300-a305-74c0c5e3ab3a",
   "metadata": {},
   "outputs": [
    {
     "name": "stdout",
     "output_type": "stream",
     "text": [
      "Тип возвращаемого значения <class 'list'>\n",
      "['12', '24', '24', '24', '35', '13', '0', '-2']\n",
      "Тип возвращаемого значения <class 'tuple'>\n",
      "('Python ', 'is', \" fun, isn't it\")\n"
     ]
    }
   ],
   "source": [
    "input = \"12;24;24;24;35;13;0;-2\"\n",
    "data = input.split(\";\")\n",
    "print(\"Тип возвращаемого значения {0}\".format(type(data)))\n",
    "print(data)\n",
    "python = \"Python is fun, isn't it\"\n",
    "partition = python.partition(\"is\")\n",
    "print(\"Тип возвращаемого значения {0}\".format(type(partition)))\n",
    "print(partition)"
   ]
  },
  {
   "cell_type": "markdown",
   "id": "c22652e7-e608-4e02-8ed6-765d7d4faace",
   "metadata": {},
   "source": [
    "## Форматирование строк ##\n",
    "\"My name is {0} and I'm {1}\".format(\"Tim\", 54)  \n",
    "Индексы в плейсхолдерах можно опускать. А можно именовать. Можно форматировать вывод.  \n",
    "- 1.2f число с плавающей точкой и округлением, первое число регулирует длину вывода пробелами\n",
    "- d i u целое число\n",
    "- o восьмеричное число\n",
    "- x X шестнадцатиричное число с учетом регистра букв\n",
    "- e E число с плавающей точкой и экспонентой\n",
    "- s строка\n",
    "- % проценты\n",
    "\n",
    "В последних версиях Python можно форматировать строку интерполяцией строк f\"My name is {name} and I'm {age}\""
   ]
  },
  {
   "cell_type": "code",
   "execution_count": 20,
   "id": "58a0df83-3b98-4bea-bfb9-08c1366d5836",
   "metadata": {},
   "outputs": [
    {
     "name": "stdout",
     "output_type": "stream",
     "text": [
      "My name is Tim and I'm 54\n",
      "Pi equals 3.1416\n",
      "Pi equals 3.1416\n"
     ]
    }
   ],
   "source": [
    "print(\"My name is {0} and I'm {1}\".format(\"Tim\", 54))\n",
    "pi = 3.1415926535\n",
    "print(\"Pi equals {pi:1.4f}\".format(pi = pi))\n",
    "print(f\"Pi equals {pi:1.4f}\")"
   ]
  },
  {
   "cell_type": "markdown",
   "id": "58d15cbe-d8dd-4d1d-9056-472ba5de8d0b",
   "metadata": {},
   "source": [
    "## Сравнение строк ##\n",
    "Строки можно сравнивать оператором == с учётом регистра"
   ]
  },
  {
   "cell_type": "code",
   "execution_count": 30,
   "id": "798368b9-7daf-44c0-8346-239bac3d88a9",
   "metadata": {},
   "outputs": [
    {
     "name": "stdout",
     "output_type": "stream",
     "text": [
      "False\n",
      "True\n",
      "True\n"
     ]
    }
   ],
   "source": [
    "x = \"string\"\n",
    "y = \"String\"\n",
    "print(x == y)\n",
    "print(x.lower() == y.lower())\n",
    "print(x != y and x.lower() == y.lower()) # различаются только регистром"
   ]
  },
  {
   "cell_type": "code",
   "execution_count": null,
   "id": "affd9cf2-aae0-4255-aef6-86c67042070b",
   "metadata": {},
   "outputs": [],
   "source": []
  }
 ],
 "metadata": {
  "kernelspec": {
   "display_name": "Python 3 (ipykernel)",
   "language": "python",
   "name": "python3"
  },
  "language_info": {
   "codemirror_mode": {
    "name": "ipython",
    "version": 3
   },
   "file_extension": ".py",
   "mimetype": "text/x-python",
   "name": "python",
   "nbconvert_exporter": "python",
   "pygments_lexer": "ipython3",
   "version": "3.12.4"
  }
 },
 "nbformat": 4,
 "nbformat_minor": 5
}
