{
 "cells": [
  {
   "cell_type": "markdown",
   "id": "703b4b42-9893-4679-8cfb-6c79302877bd",
   "metadata": {},
   "source": [
    "# Список #"
   ]
  },
  {
   "cell_type": "code",
   "execution_count": 2,
   "id": "441983db-fdf3-4999-80ae-c6d42d9714f6",
   "metadata": {},
   "outputs": [
    {
     "name": "stdout",
     "output_type": "stream",
     "text": [
      "<class 'list'>\n",
      "[1, 2, 3]\n"
     ]
    }
   ],
   "source": [
    "int_list = [1, 2, 3]\n",
    "print(type(int_list))\n",
    "print(int_list)"
   ]
  },
  {
   "cell_type": "markdown",
   "id": "ce6a7f79-cacb-4a2a-ba09-f875f32db69f",
   "metadata": {},
   "source": [
    "Можно смешивать разные типы."
   ]
  },
  {
   "cell_type": "code",
   "execution_count": 4,
   "id": "a65ce282-5d76-491e-92b3-a4887a7c1ffc",
   "metadata": {},
   "outputs": [
    {
     "name": "stdout",
     "output_type": "stream",
     "text": [
      "<class 'list'>\n",
      "[1, 'Осень', 2.0, -3, 'string']\n"
     ]
    }
   ],
   "source": [
    "mixed_list = [1, \"Осень\", 2.0, -3, \"string\"]\n",
    "print(type(mixed_list))\n",
    "print(mixed_list)"
   ]
  },
  {
   "cell_type": "markdown",
   "id": "baecfe53-128d-419a-9c2c-72df405c060e",
   "metadata": {},
   "source": [
    "Обращение по индексу. Длина списка."
   ]
  },
  {
   "cell_type": "code",
   "execution_count": 6,
   "id": "7ac634fb-4d31-4370-97b4-86af80f62b09",
   "metadata": {},
   "outputs": [
    {
     "name": "stdout",
     "output_type": "stream",
     "text": [
      "3\n",
      "1\n",
      "3\n"
     ]
    }
   ],
   "source": [
    "print(len(int_list))\n",
    "print(int_list[0])\n",
    "print(int_list[-1])"
   ]
  },
  {
   "cell_type": "markdown",
   "id": "ffed5f32-89a7-4790-803e-178da542935e",
   "metadata": {},
   "source": [
    "Можно делать срезы как в строках."
   ]
  },
  {
   "cell_type": "code",
   "execution_count": 8,
   "id": "f7b094ed-2162-4496-9043-c8087d17a612",
   "metadata": {},
   "outputs": [
    {
     "data": {
      "text/plain": [
       "[2, 3]"
      ]
     },
     "execution_count": 8,
     "metadata": {},
     "output_type": "execute_result"
    }
   ],
   "source": [
    "int_list[1:]"
   ]
  },
  {
   "cell_type": "markdown",
   "id": "cd8099b2-9bf6-4222-8a07-fbc611f19998",
   "metadata": {},
   "source": [
    "Конкатенация списков."
   ]
  },
  {
   "cell_type": "code",
   "execution_count": 10,
   "id": "ae2d2396-7144-470d-acb7-53ac42eea19f",
   "metadata": {},
   "outputs": [
    {
     "data": {
      "text/plain": [
       "['Jhon', 'Bob', 'Tracy', 'Sara']"
      ]
     },
     "execution_count": 10,
     "metadata": {},
     "output_type": "execute_result"
    }
   ],
   "source": [
    "names1 = ['Jhon', 'Bob']\n",
    "names2 = ['Tracy', 'Sara']\n",
    "names_combined = names1 + names2\n",
    "names_combined"
   ]
  },
  {
   "cell_type": "markdown",
   "id": "76103850-7c10-438e-b665-27d882d5ec3d",
   "metadata": {},
   "source": [
    "Список является изменяемым типом. ожно добавлять элементы функцией append."
   ]
  },
  {
   "cell_type": "code",
   "execution_count": 12,
   "id": "2a4e6efe-f526-4bcb-b4ac-601cf27b4aa7",
   "metadata": {},
   "outputs": [
    {
     "data": {
      "text/plain": [
       "['Tim', 'Bob', 'Din']"
      ]
     },
     "execution_count": 12,
     "metadata": {},
     "output_type": "execute_result"
    }
   ],
   "source": [
    "names1[0] = 'Tim'\n",
    "names1.append('Din')\n",
    "names1"
   ]
  },
  {
   "cell_type": "markdown",
   "id": "ce86cd3d-e806-494a-84ad-22b6312fb89e",
   "metadata": {},
   "source": [
    "pop возвращает и удаляет элемент по индексу, по умолчанию последний."
   ]
  },
  {
   "cell_type": "code",
   "execution_count": 14,
   "id": "e818b7f2-cbfe-43c2-a9ad-c8ca0c8ff645",
   "metadata": {},
   "outputs": [
    {
     "name": "stdout",
     "output_type": "stream",
     "text": [
      "['Tim', 'Bob', 'Din']\n",
      "Bob\n",
      "Din\n",
      "['Tim']\n"
     ]
    }
   ],
   "source": [
    "print(names1)\n",
    "print(names1.pop(1))\n",
    "print(names1.pop())\n",
    "print(names1)"
   ]
  },
  {
   "cell_type": "markdown",
   "id": "8eab38f5-ea00-4a66-ba7a-d88119a90141",
   "metadata": {},
   "source": [
    "Сортировка списка.  \n",
    "Под капотом используется алгоритм сортировки timsort. Стабильный, O(n*log(n)) в худшем случае, O(n) в лучшем, O(n) по памяти."
   ]
  },
  {
   "cell_type": "code",
   "execution_count": 16,
   "id": "6a1e163c-33e3-40e5-be7c-d14d67aceee1",
   "metadata": {},
   "outputs": [
    {
     "data": {
      "text/plain": [
       "['Bob', 'Jhon', 'Sara', 'Tim', 'Tim', 'Tracy']"
      ]
     },
     "execution_count": 16,
     "metadata": {},
     "output_type": "execute_result"
    }
   ],
   "source": [
    "names_combined.append('Tim')\n",
    "names_combined.append('Tim')\n",
    "names_combined.sort()\n",
    "names_combined"
   ]
  },
  {
   "cell_type": "markdown",
   "id": "6896038c-605e-44e5-810d-dcc67dfcd912",
   "metadata": {},
   "source": [
    "Сортировка не сработает на смешанном списке."
   ]
  },
  {
   "cell_type": "code",
   "execution_count": 18,
   "id": "d9ef7044-e390-4b3c-9439-0642c219389a",
   "metadata": {},
   "outputs": [
    {
     "data": {
      "text/plain": [
       "[1, 'Осень', 2.0, -3, 'string']"
      ]
     },
     "execution_count": 18,
     "metadata": {},
     "output_type": "execute_result"
    }
   ],
   "source": [
    "#mixed_list.sort()\n",
    "mixed_list"
   ]
  },
  {
   "cell_type": "code",
   "execution_count": 19,
   "id": "d29ab6fa-1326-45b7-9d7d-39391a4f5f67",
   "metadata": {},
   "outputs": [
    {
     "data": {
      "text/plain": [
       "['aa', 'ab', 'ac']"
      ]
     },
     "execution_count": 19,
     "metadata": {},
     "output_type": "execute_result"
    }
   ],
   "source": [
    "letters = ['ac', 'ab', 'aa']\n",
    "letters.sort()\n",
    "letters"
   ]
  },
  {
   "cell_type": "markdown",
   "id": "6e6974c6-12c3-4612-832b-d945ed2119cf",
   "metadata": {},
   "source": [
    "Сортировать можно по ключу (функции), например по длине строки."
   ]
  },
  {
   "cell_type": "code",
   "execution_count": 21,
   "id": "f8fae06b-5a60-4d45-ba0f-514c8233fb86",
   "metadata": {},
   "outputs": [
    {
     "data": {
      "text/plain": [
       "['s', 'ac', 'ab', 'aa', 'dad', 'wert', 'aqwe']"
      ]
     },
     "execution_count": 21,
     "metadata": {},
     "output_type": "execute_result"
    }
   ],
   "source": [
    "letters = ['ac', 's', 'wert', 'aqwe', 'dad', 'ab', 'aa']\n",
    "letters.sort(key=len)\n",
    "letters"
   ]
  },
  {
   "cell_type": "markdown",
   "id": "69627df3-0846-4e70-92a8-d530273e6550",
   "metadata": {},
   "source": [
    "Под капотом используется алгоритм сортировки timsort"
   ]
  },
  {
   "cell_type": "markdown",
   "id": "beb3b06a-992f-4385-937b-423f33b58338",
   "metadata": {},
   "source": [
    "Обращение списка и сортировка по убыванию."
   ]
  },
  {
   "cell_type": "code",
   "execution_count": 24,
   "id": "d2dabbfd-f953-4447-8671-e14b0bf799d1",
   "metadata": {},
   "outputs": [
    {
     "name": "stdout",
     "output_type": "stream",
     "text": [
      "[8, 5, -13, 90, -2, 34, 6, 1, 2, 1]\n",
      "[90, 34, 8, 6, 5, 2, 1, 1, -2, -13]\n"
     ]
    }
   ],
   "source": [
    "numbers = [1, 2, 1, 6, 34, -2, 90, -13, 5, 8]\n",
    "numbers.reverse()\n",
    "print(numbers)\n",
    "numbers.sort(reverse=True)\n",
    "print(numbers)"
   ]
  },
  {
   "cell_type": "markdown",
   "id": "d450e168-7733-46c6-a6f0-bf1325e0b69a",
   "metadata": {},
   "source": [
    "Добавление элемента по индексу."
   ]
  },
  {
   "cell_type": "code",
   "execution_count": 26,
   "id": "dc15b4c6-7e3a-4a21-9b3a-50722d57b17e",
   "metadata": {},
   "outputs": [
    {
     "name": "stdout",
     "output_type": "stream",
     "text": [
      "['Bob', 'Jhon', 'Sara', 'Tim', 'Tim', 'Tracy']\n",
      "['Bob', 'Carl', 'Jhon', 'Sara', 'Tim', 'Tim', 'Tracy']\n"
     ]
    }
   ],
   "source": [
    "print(names_combined)\n",
    "names_combined.insert(1, 'Carl')\n",
    "print(names_combined)"
   ]
  },
  {
   "cell_type": "markdown",
   "id": "2add8043-91b1-4a6f-b3a2-8a5358561ac6",
   "metadata": {},
   "source": [
    "Нахождение индекса первого совпадения. Можно передавать start, stop. Если элемент не найден возникает ошибка."
   ]
  },
  {
   "cell_type": "code",
   "execution_count": 28,
   "id": "3c423911-dce4-4185-b683-3c4233339ec5",
   "metadata": {},
   "outputs": [
    {
     "name": "stdout",
     "output_type": "stream",
     "text": [
      "['Bob', 'Carl', 'Jhon', 'Sara', 'Tim', 'Tim', 'Tracy']\n",
      "4\n",
      "5\n"
     ]
    }
   ],
   "source": [
    "print(names_combined)\n",
    "idx = names_combined.index('Tim')\n",
    "print(idx)\n",
    "idx = names_combined.index('Tim', 5, -1)\n",
    "print(idx)\n",
    "#idx = names_combined.index('Timmi')"
   ]
  },
  {
   "cell_type": "markdown",
   "id": "f0f1bdf9-2c3a-4a9e-b2ee-a2a38a1ad303",
   "metadata": {},
   "source": [
    "count возвращает количество вхождений элемента в список."
   ]
  },
  {
   "cell_type": "code",
   "execution_count": 30,
   "id": "a0776e39-8d60-408f-a1b7-9e9987e4d0b2",
   "metadata": {},
   "outputs": [
    {
     "name": "stdout",
     "output_type": "stream",
     "text": [
      "2\n"
     ]
    }
   ],
   "source": [
    "print(names_combined.count('Tim'))"
   ]
  },
  {
   "cell_type": "markdown",
   "id": "73c95817-0253-4f80-afb6-2b6c2ab09e49",
   "metadata": {},
   "source": [
    "Создание копии списка. Возвращает поверхностную копию списка."
   ]
  },
  {
   "cell_type": "code",
   "execution_count": 32,
   "id": "630d2694-229b-4e69-a406-b42c3ba4ac54",
   "metadata": {},
   "outputs": [
    {
     "name": "stdout",
     "output_type": "stream",
     "text": [
      "[90, 34, 8, 6, 5, 2, 1, 1, -2, -13]\n",
      "[-13, -2, 0, 1, 1, 2, 5, 6, 8, 34, 90]\n",
      "[90, 34, 8, 6, 5, 2, 1, 1, -2, -13]\n"
     ]
    }
   ],
   "source": [
    "print(numbers)\n",
    "numbers_copy = numbers.copy()\n",
    "numbers_copy.append(0)\n",
    "numbers_copy.sort()\n",
    "print(numbers_copy)\n",
    "print(numbers)"
   ]
  },
  {
   "cell_type": "markdown",
   "id": "c0d1d70e-b4ff-4746-a872-c44cc731b4a1",
   "metadata": {},
   "source": [
    "Очистка списка."
   ]
  },
  {
   "cell_type": "code",
   "execution_count": 34,
   "id": "b662ced4-3cf0-44c3-815c-39fc86d7323f",
   "metadata": {},
   "outputs": [
    {
     "name": "stdout",
     "output_type": "stream",
     "text": [
      "[90, 34, 8, 6, 5, 2, 1, 1, -2, -13]\n",
      "[]\n"
     ]
    }
   ],
   "source": [
    "print(numbers)\n",
    "numbers.clear()\n",
    "print(numbers)"
   ]
  },
  {
   "cell_type": "code",
   "execution_count": null,
   "id": "73b34899-9fd7-4735-85cc-546bd7710e97",
   "metadata": {},
   "outputs": [],
   "source": []
  }
 ],
 "metadata": {
  "kernelspec": {
   "display_name": "Python 3 (ipykernel)",
   "language": "python",
   "name": "python3"
  },
  "language_info": {
   "codemirror_mode": {
    "name": "ipython",
    "version": 3
   },
   "file_extension": ".py",
   "mimetype": "text/x-python",
   "name": "python",
   "nbconvert_exporter": "python",
   "pygments_lexer": "ipython3",
   "version": "3.12.4"
  }
 },
 "nbformat": 4,
 "nbformat_minor": 5
}
