{
 "cells": [
  {
   "cell_type": "markdown",
   "id": "53a45ca7-cfe4-4c22-bd8d-7b668e5caa99",
   "metadata": {},
   "source": [
    "# Упорядоченный словарь #"
   ]
  },
  {
   "cell_type": "code",
   "execution_count": 2,
   "id": "d3419a31-b35c-446a-a200-9f5b74d10022",
   "metadata": {},
   "outputs": [
    {
     "name": "stdout",
     "output_type": "stream",
     "text": [
      "False\n",
      "True\n"
     ]
    }
   ],
   "source": [
    "from collections import OrderedDict\n",
    "\n",
    "d1 = OrderedDict()\n",
    "d1['a'] = 'A'\n",
    "d1['b'] = 'B'\n",
    "d1['c'] = 'C'\n",
    "\n",
    "d2 = OrderedDict()\n",
    "d2['c'] = 'C'\n",
    "d2['a'] = 'A'\n",
    "d2['b'] = 'B'\n",
    "\n",
    "d3 = OrderedDict()\n",
    "d3['a'] = 'A'\n",
    "d3['b'] = 'B'\n",
    "d3['c'] = 'C'\n",
    "\n",
    "print(d1 == d2)\n",
    "print(d1 == d3)"
   ]
  },
  {
   "cell_type": "markdown",
   "id": "2cca668f-7a78-4244-a274-ccbb604dc1a7",
   "metadata": {},
   "source": [
    "При проходе циклом сохраняется порядок добавления значений."
   ]
  },
  {
   "cell_type": "code",
   "execution_count": 6,
   "id": "bf622111-e034-4b40-a1ab-33cefbbe28de",
   "metadata": {},
   "outputs": [
    {
     "name": "stdout",
     "output_type": "stream",
     "text": [
      "a A\n",
      "b B\n",
      "c C\n"
     ]
    }
   ],
   "source": [
    "for k, v in d1.items():\n",
    "    print(k, v)"
   ]
  },
  {
   "cell_type": "code",
   "execution_count": null,
   "id": "4223f828-6038-4eae-a19d-a51964b41e3e",
   "metadata": {},
   "outputs": [],
   "source": []
  }
 ],
 "metadata": {
  "kernelspec": {
   "display_name": "Python 3 (ipykernel)",
   "language": "python",
   "name": "python3"
  },
  "language_info": {
   "codemirror_mode": {
    "name": "ipython",
    "version": 3
   },
   "file_extension": ".py",
   "mimetype": "text/x-python",
   "name": "python",
   "nbconvert_exporter": "python",
   "pygments_lexer": "ipython3",
   "version": "3.12.4"
  }
 },
 "nbformat": 4,
 "nbformat_minor": 5
}
