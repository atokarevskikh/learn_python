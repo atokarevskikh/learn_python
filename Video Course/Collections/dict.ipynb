{
 "cells": [
  {
   "cell_type": "markdown",
   "id": "d7e36dc1-5584-4cd9-8721-d0e1617b8734",
   "metadata": {},
   "source": [
    "# Словарь #\n",
    "Объявление словаря."
   ]
  },
  {
   "cell_type": "code",
   "execution_count": 2,
   "id": "1a419f61-3de9-4761-98bd-b7995bff99af",
   "metadata": {},
   "outputs": [
    {
     "data": {
      "text/plain": [
       "{'Carlsen': 2842,\n",
       " 'Caruana': 2822,\n",
       " 'Mamedyarov': 2801,\n",
       " 'Ding': 2797,\n",
       " 'Giri': 2780}"
      ]
     },
     "execution_count": 2,
     "metadata": {},
     "output_type": "execute_result"
    }
   ],
   "source": [
    "players = {\n",
    "    'Carlsen' : 2842,\n",
    "    'Caruana' : 2822,\n",
    "    'Mamedyarov' : 2801,\n",
    "    'Ding' : 2797,\n",
    "    'Giri' : 2780\n",
    "}\n",
    "players"
   ]
  },
  {
   "cell_type": "code",
   "execution_count": 3,
   "id": "6085d648-7fed-4945-ad3a-92c1b6bde1a9",
   "metadata": {},
   "outputs": [
    {
     "data": {
      "text/plain": [
       "{'Carlsen': 2842,\n",
       " 'Caruana': 2822,\n",
       " 'Mamedyarov': 2801,\n",
       " 'Ding': 2797,\n",
       " 'Giri': 2780}"
      ]
     },
     "execution_count": 3,
     "metadata": {},
     "output_type": "execute_result"
    }
   ],
   "source": [
    "players = dict(Carlsen = 2842, \n",
    "               Caruana = 2822, \n",
    "               Mamedyarov = 2801, \n",
    "               Ding = 2797, \n",
    "               Giri = 2780)\n",
    "players"
   ]
  },
  {
   "cell_type": "markdown",
   "id": "a274e087-7e57-4ce9-a19b-97d90861da53",
   "metadata": {},
   "source": [
    "Получение значения по ключу. При отсутствии ключа выдаст ошибку KeyError."
   ]
  },
  {
   "cell_type": "code",
   "execution_count": 5,
   "id": "5f63cba8-e1f6-4432-aad5-c3e3b2f3fa44",
   "metadata": {},
   "outputs": [
    {
     "name": "stdout",
     "output_type": "stream",
     "text": [
      "Top chess player's rating is 2842\n"
     ]
    }
   ],
   "source": [
    "top1 = players['Carlsen']\n",
    "print(f\"Top chess player's rating is {top1}\")"
   ]
  },
  {
   "cell_type": "markdown",
   "id": "c973106d-c72a-49b3-9060-c41335956145",
   "metadata": {},
   "source": [
    "Можно также воспользоваться функцией get. При отсутствии ключа вернёт None а не ошибку."
   ]
  },
  {
   "cell_type": "code",
   "execution_count": 7,
   "id": "09e30e5d-1cd6-47b8-b6bb-38fe7a97d888",
   "metadata": {},
   "outputs": [
    {
     "name": "stdout",
     "output_type": "stream",
     "text": [
      "Рейтинг Гири None\n",
      "<class 'NoneType'>\n",
      "Рейтинг Гири 2780\n",
      "<class 'int'>\n"
     ]
    }
   ],
   "source": [
    "raiting = players.get('Giris')\n",
    "print(f\"Рейтинг Гири {raiting}\")\n",
    "print(type(raiting))\n",
    "raiting = players.get('Giri')\n",
    "print(f\"Рейтинг Гири {raiting}\")\n",
    "print(type(raiting))"
   ]
  },
  {
   "cell_type": "markdown",
   "id": "56bb9f3f-bc87-4b52-bac4-6752af94fe9a",
   "metadata": {},
   "source": [
    "Добавление записи. "
   ]
  },
  {
   "cell_type": "code",
   "execution_count": 9,
   "id": "84aa1e1a-e7f3-4702-ad5e-e477c5d939a3",
   "metadata": {},
   "outputs": [
    {
     "data": {
      "text/plain": [
       "{'Carlsen': 2842,\n",
       " 'Caruana': 2822,\n",
       " 'Mamedyarov': 2801,\n",
       " 'Ding': 2797,\n",
       " 'Giri': 2780,\n",
       " 'So': 2780}"
      ]
     },
     "execution_count": 9,
     "metadata": {},
     "output_type": "execute_result"
    }
   ],
   "source": [
    "players['So'] = 2780\n",
    "players"
   ]
  },
  {
   "cell_type": "markdown",
   "id": "3b88b44e-c4fa-41d9-a031-011744650f8f",
   "metadata": {},
   "source": [
    "Изменение записи."
   ]
  },
  {
   "cell_type": "code",
   "execution_count": 17,
   "id": "9c5c3a18-3960-4d58-b17d-483e017ff682",
   "metadata": {},
   "outputs": [
    {
     "data": {
      "text/plain": [
       "{'Carlsen': 2842,\n",
       " 'Caruana': 2822,\n",
       " 'Mamedyarov': 2801,\n",
       " 'Ding': 2797,\n",
       " 'Giri': 2780,\n",
       " 'So': 2781}"
      ]
     },
     "execution_count": 17,
     "metadata": {},
     "output_type": "execute_result"
    }
   ],
   "source": [
    "players['So'] = 2781\n",
    "players"
   ]
  },
  {
   "cell_type": "markdown",
   "id": "26a566da-a3ec-42af-833a-20fe0b817615",
   "metadata": {},
   "source": [
    "Удаление записи."
   ]
  },
  {
   "cell_type": "code",
   "execution_count": 20,
   "id": "ee6ee183-518a-4b3c-b1b1-24bee4ad0cff",
   "metadata": {},
   "outputs": [
    {
     "data": {
      "text/plain": [
       "{'Carlsen': 2842,\n",
       " 'Caruana': 2822,\n",
       " 'Mamedyarov': 2801,\n",
       " 'Ding': 2797,\n",
       " 'Giri': 2780}"
      ]
     },
     "execution_count": 20,
     "metadata": {},
     "output_type": "execute_result"
    }
   ],
   "source": [
    "del players['So']\n",
    "players"
   ]
  },
  {
   "cell_type": "markdown",
   "id": "e5ef462a-01b7-41ce-9601-903cfe6407c2",
   "metadata": {},
   "source": [
    "Получение ключей словаря."
   ]
  },
  {
   "cell_type": "code",
   "execution_count": 27,
   "id": "c3689df3-f3cc-4304-8685-c52cc9295f41",
   "metadata": {},
   "outputs": [
    {
     "name": "stdout",
     "output_type": "stream",
     "text": [
      "<class 'dict_keys'>\n",
      "dict_keys(['Carlsen', 'Caruana', 'Mamedyarov', 'Ding', 'Giri'])\n",
      "<class 'list'>\n",
      "['Carlsen', 'Caruana', 'Mamedyarov', 'Ding', 'Giri']\n"
     ]
    }
   ],
   "source": [
    "keys = players.keys()\n",
    "print(type(keys))\n",
    "print(keys)\n",
    "list_of_keys = list(keys)\n",
    "print(type(list_of_keys))\n",
    "print(list_of_keys)"
   ]
  },
  {
   "cell_type": "markdown",
   "id": "829c7712-2e3d-45b1-9942-ad0e6de9dd92",
   "metadata": {},
   "source": [
    "Встроенная функции сортировки, возвращает список."
   ]
  },
  {
   "cell_type": "code",
   "execution_count": 30,
   "id": "d2cc48a1-9925-4b24-95d8-fbc1cf2e566b",
   "metadata": {},
   "outputs": [
    {
     "data": {
      "text/plain": [
       "['Carlsen', 'Caruana', 'Ding', 'Giri', 'Mamedyarov']"
      ]
     },
     "execution_count": 30,
     "metadata": {},
     "output_type": "execute_result"
    }
   ],
   "source": [
    "sorted(players.keys())"
   ]
  },
  {
   "cell_type": "markdown",
   "id": "17a5c7b5-d47c-4d5f-9c9e-b53674311893",
   "metadata": {},
   "source": [
    "Проверка вхождения элемента."
   ]
  },
  {
   "cell_type": "code",
   "execution_count": 35,
   "id": "bafa22cd-1574-4e13-965c-b4aee851d1fe",
   "metadata": {},
   "outputs": [
    {
     "name": "stdout",
     "output_type": "stream",
     "text": [
      "True\n",
      "False\n"
     ]
    }
   ],
   "source": [
    "print('Carlsen' in players)\n",
    "print('Carlsen' not in players)"
   ]
  },
  {
   "cell_type": "markdown",
   "id": "d6183b77-de7f-4868-ab66-73f9724eb613",
   "metadata": {},
   "source": [
    "Получени значений словаря."
   ]
  },
  {
   "cell_type": "code",
   "execution_count": 38,
   "id": "fb970179-0b7e-4d83-a16b-3722268a34fd",
   "metadata": {},
   "outputs": [
    {
     "name": "stdout",
     "output_type": "stream",
     "text": [
      "<class 'dict_values'>\n",
      "dict_values([2842, 2822, 2801, 2797, 2780])\n",
      "<class 'list'>\n",
      "[2842, 2822, 2801, 2797, 2780]\n"
     ]
    }
   ],
   "source": [
    "vals = players.values()\n",
    "print(type(vals))\n",
    "print(vals)\n",
    "list_of_values = list(vals)\n",
    "print(type(list_of_values))\n",
    "print(list_of_values)"
   ]
  },
  {
   "cell_type": "markdown",
   "id": "4f5dd236-ac37-4239-8db5-3a21387e23bf",
   "metadata": {},
   "source": [
    "Создание поверхностной копии."
   ]
  },
  {
   "cell_type": "code",
   "execution_count": 41,
   "id": "d1d093b9-6a3b-4237-9d7a-764f0880451b",
   "metadata": {},
   "outputs": [
    {
     "name": "stdout",
     "output_type": "stream",
     "text": [
      "{'Carlsen': 2842, 'Caruana': 2822, 'Mamedyarov': 2801, 'Ding': 2797, 'Giri': 2780, 'So': 2780}\n",
      "{'Carlsen': 2842, 'Caruana': 2822, 'Mamedyarov': 2801, 'Ding': 2797, 'Giri': 2780}\n"
     ]
    }
   ],
   "source": [
    "players_copy = players.copy()\n",
    "players_copy['So'] = 2780\n",
    "print(players_copy)\n",
    "print(players)"
   ]
  },
  {
   "cell_type": "markdown",
   "id": "82d04a54-dc3b-4f15-8ece-9683680bc8a4",
   "metadata": {},
   "source": [
    " Перебор элементов словаря в цикле."
   ]
  },
  {
   "cell_type": "code",
   "execution_count": 48,
   "id": "7a5f8d4b-85a0-4c00-a15e-733ead229331",
   "metadata": {},
   "outputs": [
    {
     "name": "stdout",
     "output_type": "stream",
     "text": [
      "Carlsen 2842\n",
      "Caruana 2822\n",
      "Mamedyarov 2801\n",
      "Ding 2797\n",
      "Giri 2780\n"
     ]
    }
   ],
   "source": [
    "for k, v in players.items():\n",
    "    print(k, v)"
   ]
  },
  {
   "cell_type": "code",
   "execution_count": 56,
   "id": "3894aa76-4100-469b-95f6-0490764bb4fb",
   "metadata": {},
   "outputs": [
    {
     "name": "stdout",
     "output_type": "stream",
     "text": [
      "<class 'dict_items'>\n",
      "dict_items([('Carlsen', 2842), ('Caruana', 2822), ('Mamedyarov', 2801), ('Ding', 2797), ('Giri', 2780)])\n",
      "<class 'list'>\n",
      "[('Carlsen', 2842), ('Caruana', 2822), ('Mamedyarov', 2801), ('Ding', 2797), ('Giri', 2780)]\n",
      "<class 'tuple'>\n"
     ]
    }
   ],
   "source": [
    "items = players.items()\n",
    "print(type(items))\n",
    "print(items)\n",
    "list_of_items = list(items)\n",
    "print(type(list_of_items))\n",
    "print(list_of_items)\n",
    "print(type(list_of_items[0]))"
   ]
  },
  {
   "cell_type": "markdown",
   "id": "c7746d56-afc7-4b2e-8997-564e9a22d9bb",
   "metadata": {},
   "source": [
    "Извлечение значения элемента с удалением элемента из словаря."
   ]
  },
  {
   "cell_type": "code",
   "execution_count": 59,
   "id": "6164e032-cc19-4fe1-a3fd-d12a69da4be2",
   "metadata": {},
   "outputs": [
    {
     "name": "stdout",
     "output_type": "stream",
     "text": [
      "2780\n",
      "{'Carlsen': 2842, 'Caruana': 2822, 'Mamedyarov': 2801, 'Ding': 2797}\n"
     ]
    }
   ],
   "source": [
    "chess_player = players.pop('Giri')\n",
    "print(chess_player)\n",
    "print(players)"
   ]
  },
  {
   "cell_type": "markdown",
   "id": "bb863c8b-6c52-4659-916e-87f5ae6229c0",
   "metadata": {},
   "source": [
    "Извлечение последнего элемента с удалением элемента из словаря. Попытка извлечь так элемент по ключу вызовет ошибку."
   ]
  },
  {
   "cell_type": "code",
   "execution_count": 65,
   "id": "f06d2806-389f-42f1-a030-c3abb62e78e3",
   "metadata": {},
   "outputs": [
    {
     "name": "stdout",
     "output_type": "stream",
     "text": [
      "('Ding', 2797)\n",
      "{'Carlsen': 2842, 'Caruana': 2822, 'Mamedyarov': 2801}\n"
     ]
    }
   ],
   "source": [
    "chess_player = players.popitem()\n",
    "print(chess_player)\n",
    "print(players)"
   ]
  },
  {
   "cell_type": "markdown",
   "id": "8d73da5e-fa30-49c8-befa-b1cbec416da4",
   "metadata": {},
   "source": [
    "Количество элементов в словаре."
   ]
  },
  {
   "cell_type": "code",
   "execution_count": 70,
   "id": "d17939e9-1f80-4fd2-9a94-936274872eef",
   "metadata": {},
   "outputs": [
    {
     "data": {
      "text/plain": [
       "3"
      ]
     },
     "execution_count": 70,
     "metadata": {},
     "output_type": "execute_result"
    }
   ],
   "source": [
    "len(players)"
   ]
  },
  {
   "cell_type": "markdown",
   "id": "987d274b-f60d-4e7f-aef6-0e4895f9618f",
   "metadata": {},
   "source": [
    "Добавление элемента, если его нет."
   ]
  },
  {
   "cell_type": "code",
   "execution_count": 72,
   "id": "2ea072fb-f4ad-40ff-9c6f-ec50107d2c74",
   "metadata": {},
   "outputs": [
    {
     "data": {
      "text/plain": [
       "{'Carlsen': 2842, 'Caruana': 2822, 'Mamedyarov': 2801, 'Karyakin': None}"
      ]
     },
     "execution_count": 72,
     "metadata": {},
     "output_type": "execute_result"
    }
   ],
   "source": [
    "players.setdefault('Caruana')\n",
    "players.setdefault('Karyakin')\n",
    "players"
   ]
  },
  {
   "cell_type": "markdown",
   "id": "5e4cf8fc-3566-44b9-bba7-384ceac82372",
   "metadata": {},
   "source": [
    "При сравнении словарь не смотрит на последовательность элементов в нём."
   ]
  },
  {
   "cell_type": "code",
   "execution_count": 8,
   "id": "8616777a-b400-4737-b7f3-4e36af372f2b",
   "metadata": {},
   "outputs": [
    {
     "name": "stdout",
     "output_type": "stream",
     "text": [
      "True\n"
     ]
    }
   ],
   "source": [
    "d1 = {}\n",
    "d1['a'] = 'A'\n",
    "d1['b'] = 'B'\n",
    "d1['c'] = 'C'\n",
    "\n",
    "d2 = {}\n",
    "d2['c'] = 'C'\n",
    "d2['a'] = 'A'\n",
    "d2['b'] = 'B'\n",
    "\n",
    "print(d1 == d2)"
   ]
  },
  {
   "cell_type": "code",
   "execution_count": null,
   "id": "106ff693-fc2a-4d43-b29f-353277a939b3",
   "metadata": {},
   "outputs": [],
   "source": []
  }
 ],
 "metadata": {
  "kernelspec": {
   "display_name": "Python 3 (ipykernel)",
   "language": "python",
   "name": "python3"
  },
  "language_info": {
   "codemirror_mode": {
    "name": "ipython",
    "version": 3
   },
   "file_extension": ".py",
   "mimetype": "text/x-python",
   "name": "python",
   "nbconvert_exporter": "python",
   "pygments_lexer": "ipython3",
   "version": "3.12.4"
  }
 },
 "nbformat": 4,
 "nbformat_minor": 5
}
