{
 "cells": [
  {
   "cell_type": "markdown",
   "id": "cafd1294-1142-4359-973e-9de48f6061ef",
   "metadata": {},
   "source": [
    "# Множество #\n",
    "Специализированный тип, используемый в математике"
   ]
  },
  {
   "cell_type": "code",
   "execution_count": 4,
   "id": "4a8a91fa-add5-4855-bee7-13ab01ff691e",
   "metadata": {},
   "outputs": [
    {
     "name": "stdout",
     "output_type": "stream",
     "text": [
      "set()\n",
      "<class 'set'>\n"
     ]
    }
   ],
   "source": [
    "my_set = set()\n",
    "print(my_set)\n",
    "print(type(my_set))"
   ]
  },
  {
   "cell_type": "code",
   "execution_count": 6,
   "id": "bffa0090-e07d-4ac2-ae2a-8afe06b75d34",
   "metadata": {},
   "outputs": [
    {
     "data": {
      "text/plain": [
       "{1}"
      ]
     },
     "execution_count": 6,
     "metadata": {},
     "output_type": "execute_result"
    }
   ],
   "source": [
    "my_set.add(1)\n",
    "my_set"
   ]
  },
  {
   "cell_type": "markdown",
   "id": "35087135-5bf1-4e50-8c1d-1b41595329a7",
   "metadata": {},
   "source": [
    "Множество работает с уникальными объектами. Повторно  объект не добавляется, хотя ошибки не возникает."
   ]
  },
  {
   "cell_type": "code",
   "execution_count": 8,
   "id": "696922fd-ed22-4548-8d9a-dd16f7155000",
   "metadata": {},
   "outputs": [
    {
     "data": {
      "text/plain": [
       "{1, 2}"
      ]
     },
     "execution_count": 8,
     "metadata": {},
     "output_type": "execute_result"
    }
   ],
   "source": [
    "my_set.add(2)\n",
    "my_set"
   ]
  },
  {
   "cell_type": "code",
   "execution_count": 10,
   "id": "1539f657-9376-4816-8a17-daea7d1ba1c8",
   "metadata": {},
   "outputs": [
    {
     "data": {
      "text/plain": [
       "{1, 2}"
      ]
     },
     "execution_count": 10,
     "metadata": {},
     "output_type": "execute_result"
    }
   ],
   "source": [
    "my_set.add(2)\n",
    "my_set"
   ]
  },
  {
   "cell_type": "code",
   "execution_count": 13,
   "id": "da7c98a9-1da7-4d43-a428-9239f9950f0f",
   "metadata": {},
   "outputs": [
    {
     "data": {
      "text/plain": [
       "{1, 2, 3, 4, 5, 24, 31, 42}"
      ]
     },
     "execution_count": 13,
     "metadata": {},
     "output_type": "execute_result"
    }
   ],
   "source": [
    "list_of_nums = [1,3,24,1,2,3,4,2,24,42,42,1,31,42,2,3,4,1,5]\n",
    "set_of_nums = set(list_of_nums)\n",
    "set_of_nums"
   ]
  },
  {
   "cell_type": "code",
   "execution_count": 15,
   "id": "1ba90576-bbcb-4c39-8494-c4619901945d",
   "metadata": {},
   "outputs": [
    {
     "data": {
      "text/plain": [
       "8"
      ]
     },
     "execution_count": 15,
     "metadata": {},
     "output_type": "execute_result"
    }
   ],
   "source": [
    "len(set_of_nums)"
   ]
  },
  {
   "cell_type": "markdown",
   "id": "92e71c3c-8005-420c-8ebc-2cfde0842961",
   "metadata": {},
   "source": [
    "Проверка вхождения элемента в множество."
   ]
  },
  {
   "cell_type": "code",
   "execution_count": 18,
   "id": "3d3c7bfc-0488-42d6-ae55-21b83c307c84",
   "metadata": {},
   "outputs": [
    {
     "name": "stdout",
     "output_type": "stream",
     "text": [
      "True\n",
      "False\n",
      "True\n"
     ]
    }
   ],
   "source": [
    "print(42 in list_of_nums)\n",
    "print(100 in list_of_nums)\n",
    "print(5 in list_of_nums)"
   ]
  },
  {
   "cell_type": "markdown",
   "id": "4f61abd6-9988-4511-9c28-03c059a62cd4",
   "metadata": {},
   "source": [
    "Элементы множества хранятся неотсортированными."
   ]
  },
  {
   "cell_type": "markdown",
   "id": "3a0020ae-afa4-4164-b490-b492b253fd44",
   "metadata": {},
   "source": [
    "## Математические операции с множеством ##"
   ]
  },
  {
   "cell_type": "code",
   "execution_count": 22,
   "id": "0ea21101-5603-46e1-9529-c0fa9467dabe",
   "metadata": {},
   "outputs": [],
   "source": [
    "set1 = {1,2,3,4,5,6,7,8,9}\n",
    "set2 = {1,2,3,4,5}"
   ]
  },
  {
   "cell_type": "code",
   "execution_count": 24,
   "id": "0bb158bc-3fb2-4432-8d96-f42422b90fc6",
   "metadata": {},
   "outputs": [
    {
     "data": {
      "text/plain": [
       "True"
      ]
     },
     "execution_count": 24,
     "metadata": {},
     "output_type": "execute_result"
    }
   ],
   "source": [
    "set2.issubset(set1)"
   ]
  },
  {
   "cell_type": "code",
   "execution_count": 26,
   "id": "5c839246-3dd7-475d-bf3d-a75b8df0e1e8",
   "metadata": {},
   "outputs": [
    {
     "data": {
      "text/plain": [
       "False"
      ]
     },
     "execution_count": 26,
     "metadata": {},
     "output_type": "execute_result"
    }
   ],
   "source": [
    "set1.issubset(set2)"
   ]
  },
  {
   "cell_type": "code",
   "execution_count": 28,
   "id": "20b9bb74-7e21-44b2-8dcc-74d6f2e8c40d",
   "metadata": {},
   "outputs": [
    {
     "data": {
      "text/plain": [
       "True"
      ]
     },
     "execution_count": 28,
     "metadata": {},
     "output_type": "execute_result"
    }
   ],
   "source": [
    "set1.issuperset(set2)"
   ]
  },
  {
   "cell_type": "markdown",
   "id": "e0637eef-2d5b-462c-9ffe-6729d054cb13",
   "metadata": {},
   "source": [
    "isdisjoint возвращает True, если множества не пересекаются"
   ]
  },
  {
   "cell_type": "code",
   "execution_count": 30,
   "id": "abdbf8c2-d9e3-49df-bc76-901937ec0961",
   "metadata": {},
   "outputs": [
    {
     "data": {
      "text/plain": [
       "False"
      ]
     },
     "execution_count": 30,
     "metadata": {},
     "output_type": "execute_result"
    }
   ],
   "source": [
    "set1.isdisjoint(set2)"
   ]
  },
  {
   "cell_type": "code",
   "execution_count": 33,
   "id": "5e49eb21-decf-4e67-8856-26d9a1ee6c84",
   "metadata": {},
   "outputs": [
    {
     "data": {
      "text/plain": [
       "True"
      ]
     },
     "execution_count": 33,
     "metadata": {},
     "output_type": "execute_result"
    }
   ],
   "source": [
    "set1 = {1,2,3}\n",
    "set2 = {4,5,6}\n",
    "set1.isdisjoint(set2)"
   ]
  },
  {
   "cell_type": "markdown",
   "id": "26073e30-658e-4c30-ac0d-764b13597fb8",
   "metadata": {},
   "source": [
    "Объединение множеств"
   ]
  },
  {
   "cell_type": "code",
   "execution_count": 37,
   "id": "7d3e7879-c75d-40ff-a26e-75a8dff3480c",
   "metadata": {},
   "outputs": [
    {
     "data": {
      "text/plain": [
       "{1, 2, 3, 4, 5, 6}"
      ]
     },
     "execution_count": 37,
     "metadata": {},
     "output_type": "execute_result"
    }
   ],
   "source": [
    "set3 = set1.union(set2)\n",
    "set3"
   ]
  },
  {
   "cell_type": "markdown",
   "id": "9961c0b4-e1a5-4d12-863d-633797c31d0e",
   "metadata": {},
   "source": [
    "Пересечение множеств"
   ]
  },
  {
   "cell_type": "code",
   "execution_count": 40,
   "id": "43d0f7b0-e93e-4f6a-89c0-7908693f3279",
   "metadata": {},
   "outputs": [
    {
     "data": {
      "text/plain": [
       "{3, 4, 5}"
      ]
     },
     "execution_count": 40,
     "metadata": {},
     "output_type": "execute_result"
    }
   ],
   "source": [
    "set1 = {3,4,5,6,7,8,9}\n",
    "set2 = {1,2,3,4,5}\n",
    "set3 = set1.intersection(set2)\n",
    "set3"
   ]
  },
  {
   "cell_type": "markdown",
   "id": "6f93767a-714c-4f9d-9034-9b6ace924342",
   "metadata": {},
   "source": [
    "Различие в множествах"
   ]
  },
  {
   "cell_type": "code",
   "execution_count": 45,
   "id": "3cd14b3e-e223-49a3-adc8-9c42762dbb6a",
   "metadata": {},
   "outputs": [
    {
     "name": "stdout",
     "output_type": "stream",
     "text": [
      "{8, 9, 6, 7}\n",
      "{1, 2, 6, 7, 8, 9}\n"
     ]
    }
   ],
   "source": [
    "set3 = set1.difference(set2)\n",
    "set4 = set1.symmetric_difference(set2)\n",
    "print(set3)\n",
    "print(set4)"
   ]
  },
  {
   "cell_type": "markdown",
   "id": "a0b9cb8f-04c4-43d5-a1ce-0eea1848d7f0",
   "metadata": {},
   "source": [
    "Методы update не возвращают новое множество а модифицуруют то, на котором вызываются."
   ]
  },
  {
   "cell_type": "code",
   "execution_count": 48,
   "id": "5485f16e-21f6-44b3-8d99-f6c12211ff2c",
   "metadata": {},
   "outputs": [
    {
     "data": {
      "text/plain": [
       "{1, 2, 3, 4, 5, 6, 7, 8, 9}"
      ]
     },
     "execution_count": 48,
     "metadata": {},
     "output_type": "execute_result"
    }
   ],
   "source": [
    "set1.update(set2)\n",
    "set1"
   ]
  },
  {
   "cell_type": "code",
   "execution_count": 51,
   "id": "66241ec8-2095-41dc-8dfb-2d6c960b4e27",
   "metadata": {},
   "outputs": [
    {
     "data": {
      "text/plain": [
       "{3, 4, 5}"
      ]
     },
     "execution_count": 51,
     "metadata": {},
     "output_type": "execute_result"
    }
   ],
   "source": [
    "set1 = {3,4,5,6,7,8,9}\n",
    "set2 = {1,2,3,4,5}\n",
    "set1.intersection_update(set2)\n",
    "set1"
   ]
  },
  {
   "cell_type": "code",
   "execution_count": 53,
   "id": "ea860dd8-aa0f-4ea2-bb19-cc9dbb2044e5",
   "metadata": {},
   "outputs": [
    {
     "data": {
      "text/plain": [
       "{1, 2, 6, 7, 8, 9}"
      ]
     },
     "execution_count": 53,
     "metadata": {},
     "output_type": "execute_result"
    }
   ],
   "source": [
    "set1 = {3,4,5,6,7,8,9}\n",
    "set2 = {1,2,3,4,5}\n",
    "set1.symmetric_difference_update(set2)\n",
    "set1"
   ]
  },
  {
   "cell_type": "markdown",
   "id": "e253bfbe-fcd7-40e1-8f9b-7d856caf2b04",
   "metadata": {},
   "source": [
    "Удаление элемента из множества"
   ]
  },
  {
   "cell_type": "code",
   "execution_count": 58,
   "id": "9d25014f-595d-4c21-8008-6130a2279d59",
   "metadata": {},
   "outputs": [
    {
     "name": "stdout",
     "output_type": "stream",
     "text": [
      "{2, 3, 4, 5, 6, 7, 8, 9}\n"
     ]
    }
   ],
   "source": [
    "set1 = {1,2,3,4,5,6,7,8,9}\n",
    "set1.remove(1)\n",
    "print(set1)\n",
    "#Error\n",
    "#set1.remove(42)"
   ]
  },
  {
   "cell_type": "code",
   "execution_count": 60,
   "id": "5b6ff134-d2f2-4bd4-afc0-98209ae90f25",
   "metadata": {},
   "outputs": [
    {
     "name": "stdout",
     "output_type": "stream",
     "text": [
      "{2, 3, 4, 5, 6, 7, 8, 9}\n",
      "{2, 3, 4, 5, 6, 7, 8, 9}\n"
     ]
    }
   ],
   "source": [
    "set1 = {1,2,3,4,5,6,7,8,9}\n",
    "set1.remove(1)\n",
    "print(set1)\n",
    "#Ошибка не возникает\n",
    "set1.discard(42)\n",
    "print(set1)"
   ]
  },
  {
   "cell_type": "markdown",
   "id": "0cdf83c6-3c68-497e-8243-922c4425ef18",
   "metadata": {},
   "source": [
    "pop удаляет и возвращает случайный элемент"
   ]
  },
  {
   "cell_type": "code",
   "execution_count": 66,
   "id": "664fae71-b610-4d8b-8631-c93e348729cb",
   "metadata": {},
   "outputs": [
    {
     "name": "stdout",
     "output_type": "stream",
     "text": [
      "1\n",
      "2\n",
      "{3, 4, 5, 6, 7, 8, 9, 42, 30}\n"
     ]
    }
   ],
   "source": [
    "set1 = {1,42,30,2,3,4,5,6,7,8,9}\n",
    "el = set1.pop()\n",
    "print(el)\n",
    "el = set1.pop()\n",
    "print(el)\n",
    "print(set1)"
   ]
  },
  {
   "cell_type": "markdown",
   "id": "fc2d923e-4a8f-4fe7-ad87-a7e7a832b345",
   "metadata": {},
   "source": [
    "Очистка множества"
   ]
  },
  {
   "cell_type": "code",
   "execution_count": 70,
   "id": "c5b91823-372b-4bd5-a936-66bec66bc77a",
   "metadata": {},
   "outputs": [
    {
     "name": "stdout",
     "output_type": "stream",
     "text": [
      "{1, 2, 3, 4, 5, 6, 7, 8, 9, 42, 30}\n",
      "set()\n"
     ]
    }
   ],
   "source": [
    "set1 = {1,42,30,2,3,4,5,6,7,8,9}\n",
    "print(set1)\n",
    "set1.clear()\n",
    "print(set1)"
   ]
  },
  {
   "cell_type": "code",
   "execution_count": null,
   "id": "47920696-b703-412c-b374-b359f8d76596",
   "metadata": {},
   "outputs": [],
   "source": []
  }
 ],
 "metadata": {
  "kernelspec": {
   "display_name": "Python 3 (ipykernel)",
   "language": "python",
   "name": "python3"
  },
  "language_info": {
   "codemirror_mode": {
    "name": "ipython",
    "version": 3
   },
   "file_extension": ".py",
   "mimetype": "text/x-python",
   "name": "python",
   "nbconvert_exporter": "python",
   "pygments_lexer": "ipython3",
   "version": "3.12.4"
  }
 },
 "nbformat": 4,
 "nbformat_minor": 5
}
