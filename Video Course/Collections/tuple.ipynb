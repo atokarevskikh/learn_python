{
 "cells": [
  {
   "cell_type": "markdown",
   "id": "807dbe01-c8b8-462d-a490-8d6fb059014a",
   "metadata": {},
   "source": [
    "# Кортеж #\n",
    "Неизменяемый набор данных. tuple часто возвращается функциями."
   ]
  },
  {
   "cell_type": "code",
   "execution_count": 2,
   "id": "d33ab3f6-900b-4413-aa0e-abb0184080c7",
   "metadata": {},
   "outputs": [
    {
     "name": "stdout",
     "output_type": "stream",
     "text": [
      "str1\n"
     ]
    }
   ],
   "source": [
    "strings = ('str1', 'str2', 'str3')\n",
    "print(strings[0])\n",
    "\n",
    "#error\n",
    "#strings[0] = 'str0'"
   ]
  },
  {
   "cell_type": "markdown",
   "id": "632ca019-0e9a-4147-a396-996742158295",
   "metadata": {},
   "source": [
    "Наборы связанных данных."
   ]
  },
  {
   "cell_type": "code",
   "execution_count": 4,
   "id": "30d848b3-f1e7-4ccb-b8c4-2668282840fa",
   "metadata": {},
   "outputs": [
    {
     "name": "stdout",
     "output_type": "stream",
     "text": [
      "<class 'tuple'>\n",
      "('Artem', 'Tokarevskikh', 54)\n",
      "3\n",
      "54\n"
     ]
    }
   ],
   "source": [
    "person = ('Artem', 'Tokarevskikh', 54)\n",
    "print(type(person))\n",
    "print(person)\n",
    "print(len(person))\n",
    "print(person[-1])"
   ]
  },
  {
   "cell_type": "markdown",
   "id": "8e44f4c2-896d-401c-a657-6f0c9f2b7405",
   "metadata": {},
   "source": [
    "Аналогичные списку функции."
   ]
  },
  {
   "cell_type": "code",
   "execution_count": 6,
   "id": "8e72af9e-ba07-438c-8f30-3d2249ab8b9c",
   "metadata": {},
   "outputs": [
    {
     "name": "stdout",
     "output_type": "stream",
     "text": [
      "1\n",
      "0\n"
     ]
    }
   ],
   "source": [
    "print(person.count('Artem'))\n",
    "print(person.index('Artem'))"
   ]
  },
  {
   "cell_type": "markdown",
   "id": "72e4d19b-da67-47b5-91bc-d1888c6da460",
   "metadata": {},
   "source": [
    "## Именованный кортеж ##"
   ]
  },
  {
   "cell_type": "code",
   "execution_count": 5,
   "id": "7aee2168-1a30-418e-bfbb-d175d698a0bc",
   "metadata": {},
   "outputs": [
    {
     "name": "stdout",
     "output_type": "stream",
     "text": [
      "('Carlsen', 1990, 2842)\n"
     ]
    }
   ],
   "source": [
    "players = [('Carlsen', 1990, 2842), ('Caruana', 1992, 2822), ('Mamedyarov', 1985, 2801)]\n",
    "print(players[0])\n",
    "#print(players[0].name)"
   ]
  },
  {
   "cell_type": "code",
   "execution_count": 9,
   "id": "34009da8-2d95-442e-9e91-32483d68cf0d",
   "metadata": {},
   "outputs": [
    {
     "name": "stdout",
     "output_type": "stream",
     "text": [
      "<class 'type'>\n",
      "<class '__main__.Player'>\n",
      "Player(name='Carlsen', birth=1990, raiting=2842)\n",
      "Carlsen\n"
     ]
    }
   ],
   "source": [
    "from collections import namedtuple\n",
    "\n",
    "Player = namedtuple('Player', 'name birth raiting')\n",
    "\n",
    "players = [Player('Carlsen', 1990, 2842), Player('Caruana', 1992, 2822), Player('Mamedyarov', 1985, 2801)]\n",
    "print(type(Player))\n",
    "print(type(players[0]))\n",
    "print(players[0])\n",
    "print(players[0].name)\n",
    "\n",
    "#error\n",
    "#players[0].raiting = 2900"
   ]
  },
  {
   "cell_type": "code",
   "execution_count": null,
   "id": "b476c89d-f659-446a-ac47-8602c905d24e",
   "metadata": {},
   "outputs": [],
   "source": []
  }
 ],
 "metadata": {
  "kernelspec": {
   "display_name": "Python 3 (ipykernel)",
   "language": "python",
   "name": "python3"
  },
  "language_info": {
   "codemirror_mode": {
    "name": "ipython",
    "version": 3
   },
   "file_extension": ".py",
   "mimetype": "text/x-python",
   "name": "python",
   "nbconvert_exporter": "python",
   "pygments_lexer": "ipython3",
   "version": "3.12.4"
  }
 },
 "nbformat": 4,
 "nbformat_minor": 5
}
